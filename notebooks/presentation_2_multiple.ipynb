{
 "cells": [
  {
   "cell_type": "code",
   "execution_count": 14,
   "id": "6308dde1-1fc7-4f81-8a79-c255bff9fdd7",
   "metadata": {},
   "outputs": [
    {
     "data": {
      "application/vnd.jupyter.widget-view+json": {
       "model_id": "c979b39b5ae8480d9990605e662ed8c1",
       "version_major": 2,
       "version_minor": 0
      },
      "text/plain": [
       "Canvas(toolbar=Toolbar(toolitems=[('Home', 'Reset original view', 'home', 'home'), ('Back', 'Back to previous …"
      ]
     },
     "metadata": {},
     "output_type": "display_data"
    },
    {
     "data": {
      "application/vnd.jupyter.widget-view+json": {
       "model_id": "741a68a26e1f45be9aa3f06a0f20ffdf",
       "version_major": 2,
       "version_minor": 0
      },
      "text/plain": [
       "Canvas(toolbar=Toolbar(toolitems=[('Home', 'Reset original view', 'home', 'home'), ('Back', 'Back to previous …"
      ]
     },
     "metadata": {},
     "output_type": "display_data"
    },
    {
     "data": {
      "application/vnd.jupyter.widget-view+json": {
       "model_id": "9c41553140b4405bb6034533dc8b8365",
       "version_major": 2,
       "version_minor": 0
      },
      "text/plain": [
       "Canvas(toolbar=Toolbar(toolitems=[('Home', 'Reset original view', 'home', 'home'), ('Back', 'Back to previous …"
      ]
     },
     "metadata": {},
     "output_type": "display_data"
    },
    {
     "data": {
      "application/vnd.jupyter.widget-view+json": {
       "model_id": "6a331cfd4077430a9507a4fca57013e4",
       "version_major": 2,
       "version_minor": 0
      },
      "text/plain": [
       "Canvas(toolbar=Toolbar(toolitems=[('Home', 'Reset original view', 'home', 'home'), ('Back', 'Back to previous …"
      ]
     },
     "metadata": {},
     "output_type": "display_data"
    },
    {
     "data": {
      "application/vnd.jupyter.widget-view+json": {
       "model_id": "61956c01eefe4ee0b4a1305c1afca450",
       "version_major": 2,
       "version_minor": 0
      },
      "text/plain": [
       "Canvas(toolbar=Toolbar(toolitems=[('Home', 'Reset original view', 'home', 'home'), ('Back', 'Back to previous …"
      ]
     },
     "metadata": {},
     "output_type": "display_data"
    },
    {
     "data": {
      "application/vnd.jupyter.widget-view+json": {
       "model_id": "77d377e1d0ed4669bab3edb0f0fe3bad",
       "version_major": 2,
       "version_minor": 0
      },
      "text/plain": [
       "Canvas(toolbar=Toolbar(toolitems=[('Home', 'Reset original view', 'home', 'home'), ('Back', 'Back to previous …"
      ]
     },
     "metadata": {},
     "output_type": "display_data"
    }
   ],
   "source": [
    "%reload_ext autoreload\n",
    "%autoreload 2\n",
    "%matplotlib widget\n",
    "import h5py\n",
    "import hdf5plugin\n",
    "import correction\n",
    "import os \n",
    "import numpy as np\n",
    "import matplotlib.pyplot as plt\n",
    "import scipy.misc\n",
    "\n",
    "#Data Files\n",
    "\n",
    "\n",
    "project_dir = '/data/visitors/balder/20220115/2022022408'\n",
    "experiment_dir = os.path.join(project_dir, 'raw/XRD Eiger Test')\n",
    "poni_dir = os.path.join(project_dir, 'process')\n",
    "\n",
    "stacks = {\n",
    "    \"no_tilt_close\": {\n",
    "        \"filename\": 'LaB6_9_data_000001.h5',\n",
    "        \"poni\": 'samuel_9_0.poni'\n",
    "    },\n",
    "    \"large_tilt_close\": {\n",
    "       \"filename\": 'LaB6_10_data_000001.h5',\n",
    "       \"poni\": 'samuel_10_0.poni'\n",
    "    },\n",
    "    #\"small_tilt_close\": {\n",
    "    #    \"filename\": 'LaB6_11_data_000001.h5',\n",
    "    #    \"poni\": 'samuel_11_0.poni'\n",
    "    #},\n",
    "    #\"no_tilt_far\": {\n",
    "    #    \"filename\": 'LaB6_13_data_000001.h5',\n",
    "    #    \"poni\": 'samuel_13_0.poni'\n",
    "    #}\n",
    "}\n",
    "\n",
    "icsdfilepath = os.path.join(experiment_dir,'LaB6-icsd.txt')\n",
    "#Parameters\n",
    "pl = 75  # pixel length, in micrometers \n",
    "pw = 450 # pixel width, in micrometers\n",
    "ph = 75  # pixel height, in micrometers\n",
    "pixel_dimensions = (pl, pw, ph)\n",
    "az_npt = 2000 #number of azimuthal integration points\n",
    "data_layer = 9\n",
    "radial = (0, 60)\n",
    "\n",
    "def load_stack(name):\n",
    "    stack = stacks[name]\n",
    "    image_path = os.path.join(experiment_dir, stack[\"filename\"])\n",
    "    with h5py.File(image_path,'r') as h5f:\n",
    "        data = h5f['/entry/data/data']\n",
    "        data = np.squeeze(data)\n",
    "    poni_path = os.path.join(poni_dir, stack[\"poni\"])\n",
    "    poni = correction.load_poni(poni_path)\n",
    "    return poni, data\n",
    "\n",
    "saves = {}\n",
    "for stack_name in stacks.keys():\n",
    "    poni, data = load_stack(stack_name)\n",
    "    img, mask = correction.mask(data[data_layer], False)\n",
    "    integrator, det_params_b711, tth_hkl = correction.azimutal_fit(img, poni, icsdfilepath, pixel_dimensions)\n",
    "    recovered_img, G = correction.correct_depth_spill(img, poni, pixel_dimensions, 1)\n",
    "    integrated_img = integrator.integrate2d(img, az_npt, az_npt, radial_range=radial)[0]\n",
    "    integrated_recovered = integrator.integrate2d(recovered_img, az_npt, az_npt, radial_range=radial)[0]\n",
    "    saves[stack_name] = {\n",
    "        \"original_image\": img,\n",
    "        \"recovered_image\": recovered_img,\n",
    "        \"original_integrated\": integrated_img,\n",
    "        \"recovered_integrated\": integrated_recovered \n",
    "    }\n",
    "comparisons = {\n",
    "    # \"Full Images\": {\n",
    "    #     \"No Tilt - Uncorrected\": { \"source\": \"no_tilt_close\", \"image\": \"original_image\", \"area\": (slice(0,-1), slice(0,-1)) },\n",
    "    #     \"No Tilt - Corrected\": { \"source\": \"no_tilt_close\", \"image\": \"recovered_image\", \"area\": (slice(0,-1), slice(0,-1)) },\n",
    "    #     \"Tilt - Uncorrected\": { \"source\": \"large_tilt_close\", \"image\": \"original_image\", \"area\": (slice(0,-1), slice(0,-1)) },\n",
    "    # },\n",
    "    \"Full Integrated Images\": {\n",
    "        \"No Tilt - Uncorrected\": { \"source\": \"no_tilt_close\", \"image\": \"original_integrated\", \"area\": (slice(0,-1), slice(0,-1)) },\n",
    "        \"No Tilt - Corrected\": { \"source\": \"no_tilt_close\", \"image\": \"recovered_integrated\", \"area\": (slice(0,-1), slice(0,-1)) },\n",
    "        \"Tilt - Uncorrected\": { \"source\": \"large_tilt_close\", \"image\": \"original_integrated\", \"area\": (slice(0,-1), slice(0,-1)) },\n",
    "    },\n",
    "    \"Compare Orthogonal to Tilted Ground Truth\": {\n",
    "        \"No Tilt - Uncorrected\": { \"source\": \"no_tilt_close\", \"image\": \"original_image\", \"area\": (slice(0,500), slice(200,300)) },\n",
    "        \"No Tilt - Corrected\": { \"source\": \"no_tilt_close\", \"image\": \"recovered_image\", \"area\": (slice(0,500), slice(200,300)) },\n",
    "        \"Tilt - Uncorrected (close to PONI)\": { \"source\": \"large_tilt_close\", \"image\": \"original_image\", \"area\": (slice(0,500), slice(0,100)) },\n",
    "    },\n",
    "    \"Compare Orthogonal to Tilted Ground Truth Zoom Bad\": {\n",
    "        \"No Tilt - Uncorrected\": { \"source\": \"no_tilt_close\", \"image\": \"original_image\", \"area\": (slice(50,150), slice(220,260)) },\n",
    "        \"No Tilt - Corrected\": { \"source\": \"no_tilt_close\", \"image\": \"recovered_image\", \"area\": (slice(50,150), slice(220,260)) },\n",
    "        \"Tilt - Uncorrected (close to PONI)\": { \"source\": \"large_tilt_close\", \"image\": \"original_image\", \"area\": (slice(50,150), slice(40,80)) },\n",
    "    },\n",
    "    \"Compare Orthogonal to Tilted Ground Truth Zoom Good\": {\n",
    "        \"No Tilt - Uncorrected\": { \"source\": \"no_tilt_close\", \"image\": \"original_image\", \"area\": (slice(300,400), slice(200,240)) },\n",
    "        \"No Tilt - Corrected\": { \"source\": \"no_tilt_close\", \"image\": \"recovered_image\", \"area\": (slice(300,400), slice(200,240)) },\n",
    "        \"Tilt - Uncorrected (close to PONI)\": { \"source\": \"large_tilt_close\", \"image\": \"original_image\", \"area\": (slice(300,400), slice(20,60)) },\n",
    "    },\n",
    "    \"Compare Tilted to Orthogonal Ground Truth(ish)\": {\n",
    "        \"No Tilt - Uncorrected\": { \"source\": \"no_tilt_close\", \"image\": \"original_image\", \"area\": (slice(150,500), slice(700,800)) },\n",
    "        \"No Tilt - Corrected\": { \"source\": \"no_tilt_close\", \"image\": \"recovered_image\", \"area\": (slice(150,500), slice(700,800)) },\n",
    "        \"Tilt - Unorrected\": { \"source\": \"large_tilt_close\", \"image\": \"original_image\", \"area\": (slice(150,500), slice(550,650)) },\n",
    "        \"Tilt - Corrected\": { \"source\": \"large_tilt_close\", \"image\": \"recovered_image\", \"area\": (slice(150,500), slice(550,650)) },\n",
    "    },\n",
    "    \"Integrated Compare Orthogonal to Tilted Ground Truth\": {\n",
    "        \"No Tilt - Uncorrected\": { \"source\": \"no_tilt_close\", \"image\": \"original_integrated\", \"area\": (slice(900*2,-1), slice(480,520)) },\n",
    "        \"No Tilt - Corrected\": { \"source\": \"no_tilt_close\", \"image\": \"recovered_integrated\", \"area\": (slice(900*2,-1), slice(480,520)) },\n",
    "        \"Tilt - Uncorrected\": { \"source\": \"large_tilt_close\", \"image\": \"original_integrated\", \"area\": (slice(900*2,-1), slice(480,520)) },\n",
    "    },\n",
    "}\n",
    "\n",
    "#\n",
    "#\n",
    "#\n",
    "#\n",
    "#\n",
    "#\n",
    "#poni, data = load_stack(\"no_tilt_close\")\n",
    "#img, mask = correction.mask(data[data_layer], False)\n",
    "#perc = np.percentile(img, 99)\n",
    "#area = comparisons[\"Compare Orthogonal to Tilted Ground Truth Zoom Bad\"][\"No Tilt - Uncorrected\"][\"area\"]\n",
    "\n",
    "#recovered_img, G = correction.correct_depth_spill(img, poni, pixel_dimensions, 1)\n",
    "#recovered_local_img, G_loc = correction.correct_depth_spill_local(img, area, poni, pixel_dimensions, 1)\n",
    "#recovered_up_img = correction.correct_depth_spill_upsampled(img, poni, pixel_dimensions, samp=1, z=2, order=0)\n",
    "\n",
    "#recovered_img_c, G_c = correction.correct_depth_spill(img, poni, pixel_dimensions, 1, method=\"carmen\")\n",
    "#recovered_local_img_c, G_loc_c = correction.correct_depth_spill_local(img, area, poni, pixel_dimensions, 10, method=\"carmen\")\n",
    "\n",
    "#grid_img = np.zeros((img.shape[0] + 2, img.shape[1] + 2))\n",
    "#grid_img[::10,::10] = 1\n",
    "#ref_img = (G.get()@grid_img.flatten()).reshape(grid_img.shape)\n",
    "\n",
    "#plt.imshow(img, vmax=perc)\n",
    "#plt.figure()\n",
    "#plt.imshow(recovered_img, vmax=perc)\n",
    "#plt.figure()\n",
    "#plt.imshow(recovered_up_img, vmax=perc)\n",
    "\n",
    "#fig, axs = plt.subplots(2, 3, figsize=(10, 10))\n",
    "#axs[0,0].imshow(recovered_img[area])\n",
    "#axs[0,1].imshow(recovered_local_img)\n",
    "#axs[0,2].imshow(img[area])\n",
    "#axs[1,0].imshow(recovered_up_img[area])\n",
    "#axs[1,1].imshow(grid_img[area])\n",
    "#axs[1,2].imshow(ref_img[area])\n",
    "\n",
    "perc = np.percentile(saves[\"no_tilt_close\"][\"original_image\"], 99)\n",
    "\n",
    "for comp_name, comparison in comparisons.items():\n",
    "   n = len(comparison)\n",
    "   fig, axs = plt.subplots(1, n, figsize=(10, 10), sharex=True, sharey=True)\n",
    "   fig.suptitle(comp_name)\n",
    "   for i, (name, info) in enumerate(comparison.items()):\n",
    "        im = saves[info[\"source\"]][info[\"image\"]][info[\"area\"]]\n",
    "        axs[i].imshow(im, vmax=perc)\n",
    "        axs[i].set_title(name)\n",
    "\n",
    "plt.tight_layout()"
   ]
  },
  {
   "cell_type": "code",
   "execution_count": null,
   "id": "e3924526-b5a8-4e97-9dd2-314250e74bb8",
   "metadata": {},
   "outputs": [],
   "source": []
  },
  {
   "cell_type": "code",
   "execution_count": null,
   "id": "5528cd5e-34e3-434a-99a2-28f59f353f3d",
   "metadata": {},
   "outputs": [],
   "source": []
  }
 ],
 "metadata": {
  "kernelspec": {
   "display_name": "HDF5 / Simple Analysis / GPU",
   "language": "python",
   "name": "maxiv-jhub-docker-kernel-hdf5"
  },
  "language_info": {
   "codemirror_mode": {
    "name": "ipython",
    "version": 3
   },
   "file_extension": ".py",
   "mimetype": "text/x-python",
   "name": "python",
   "nbconvert_exporter": "python",
   "pygments_lexer": "ipython3",
   "version": "3.9.7"
  }
 },
 "nbformat": 4,
 "nbformat_minor": 5
}
