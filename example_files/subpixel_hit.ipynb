{
 "cells": [
  {
   "cell_type": "code",
   "execution_count": 7,
   "id": "d63b0884-acfd-49d2-bbae-06ed6acfd88f",
   "metadata": {},
   "outputs": [],
   "source": [
    "#import sys\n",
    "#!{sys.executable} -m pip install sympy"
   ]
  },
  {
   "cell_type": "code",
   "execution_count": 6,
   "id": "9100dc9d-1375-4210-919b-173078b0d760",
   "metadata": {},
   "outputs": [
    {
     "name": "stdout",
     "output_type": "stream",
     "text": [
      "[[0.         0.02040816 0.04081633 ... 0.95918367 0.97959184 1.        ]\n",
      " [0.         0.02040816 0.04081633 ... 0.95918367 0.97959184 1.        ]\n",
      " [0.         0.02040816 0.04081633 ... 0.95918367 0.97959184 1.        ]\n",
      " ...\n",
      " [0.         0.02040816 0.04081633 ... 0.95918367 0.97959184 1.        ]\n",
      " [0.         0.02040816 0.04081633 ... 0.95918367 0.97959184 1.        ]\n",
      " [0.         0.02040816 0.04081633 ... 0.95918367 0.97959184 1.        ]]\n"
     ]
    }
   ],
   "source": [
    "import numpy as np\n",
    "import sympy as sp\n",
    "from sympy.solvers import solve\n",
    "from sympy import Symbol\n",
    "\n",
    "x = Symbol('x') #xpos\n",
    "y = Symbol('y') #ypos\n",
    "E = Symbol('E') #hit energy\n",
    "mu = Symbol('mu') #exponential decay\n",
    "px = Symbol('px') #pixel length x\n",
    "py = Symbol('py') #pixel length y\n",
    "\n",
    "p1L = Symbol('p1L')\n",
    "p2L = Symbol('p2L')\n"
   ]
  },
  {
   "cell_type": "code",
   "execution_count": null,
   "id": "ee5aac4f-515d-4194-99c2-df814b9a5295",
   "metadata": {},
   "outputs": [],
   "source": []
  }
 ],
 "metadata": {
  "kernelspec": {
   "display_name": "Python 3 (ipykernel)",
   "language": "python",
   "name": "python3"
  },
  "language_info": {
   "codemirror_mode": {
    "name": "ipython",
    "version": 3
   },
   "file_extension": ".py",
   "mimetype": "text/x-python",
   "name": "python",
   "nbconvert_exporter": "python",
   "pygments_lexer": "ipython3",
   "version": "3.9.1"
  }
 },
 "nbformat": 4,
 "nbformat_minor": 5
}
