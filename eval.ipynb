{
 "cells": [
  {
   "cell_type": "code",
   "execution_count": 57,
   "id": "30030e69-ec0d-44d7-9574-f8ecdb3d7d2b",
   "metadata": {},
   "outputs": [
    {
     "data": {
      "application/vnd.jupyter.widget-view+json": {
       "model_id": "c8b6cd88680f4c65962bff705c4060ed",
       "version_major": 2,
       "version_minor": 0
      },
      "text/plain": [
       "Canvas(toolbar=Toolbar(toolitems=[('Home', 'Reset original view', 'home', 'home'), ('Back', 'Back to previous …"
      ]
     },
     "metadata": {},
     "output_type": "display_data"
    },
    {
     "data": {
      "application/vnd.jupyter.widget-view+json": {
       "model_id": "91f9e067c33843f1a2c6bac1c6d01e3b",
       "version_major": 2,
       "version_minor": 0
      },
      "text/plain": [
       "Canvas(toolbar=Toolbar(toolitems=[('Home', 'Reset original view', 'home', 'home'), ('Back', 'Back to previous …"
      ]
     },
     "metadata": {},
     "output_type": "display_data"
    },
    {
     "data": {
      "application/vnd.jupyter.widget-view+json": {
       "model_id": "0690e68c230742afa9a6e2f282511efb",
       "version_major": 2,
       "version_minor": 0
      },
      "text/plain": [
       "Canvas(toolbar=Toolbar(toolitems=[('Home', 'Reset original view', 'home', 'home'), ('Back', 'Back to previous …"
      ]
     },
     "metadata": {},
     "output_type": "display_data"
    },
    {
     "data": {
      "application/vnd.jupyter.widget-view+json": {
       "model_id": "b5d8677d84404dc4891202d65dfd237f",
       "version_major": 2,
       "version_minor": 0
      },
      "text/plain": [
       "Canvas(toolbar=Toolbar(toolitems=[('Home', 'Reset original view', 'home', 'home'), ('Back', 'Back to previous …"
      ]
     },
     "metadata": {},
     "output_type": "display_data"
    },
    {
     "data": {
      "text/plain": [
       "<matplotlib.colorbar.Colorbar at 0x7f47dd4f1b20>"
      ]
     },
     "execution_count": 57,
     "metadata": {},
     "output_type": "execute_result"
    }
   ],
   "source": [
    "%reload_ext autoreload\n",
    "%autoreload 2\n",
    "%matplotlib widget\n",
    "\n",
    "import os \n",
    "import numpy as np\n",
    "import matplotlib.pyplot as plt\n",
    "from matplotlib import image\n",
    "import matplotlib.colors as colors\n",
    "\n",
    "import examplesetup\n",
    "import lib.deconvolution as deconvolution\n",
    "import lib.utils as utils\n",
    "import lib.xtrace as xtrace\n",
    "import lib.datagen as datagen\n",
    "\n",
    "from numpy.random import default_rng\n",
    "rng = default_rng()\n",
    "\n",
    "import tensorflow as tf\n",
    "from tensorflow import keras\n",
    "import numpy as np\n",
    "\n",
    "model_name = \"deconvolve_gauss_grid_oneloc\"\n",
    "model = keras.models.load_model(f'trained_networks/{model_name}.h5')\n",
    "#img = image.imread(\"example_image.png\").sum(axis=2)\n",
    "distorted_img_syn, img_syn = datagen.get_synthetic_data_pair()\n",
    "\n",
    "distorted_img_9 = np.load('example_files/test_data_9.npy')/1e6\n",
    "distorted_img_0 = np.load('example_files/test_data_0.npy')/1e6\n",
    "\n",
    "recovered_img_syn = model(distorted_img_syn[np.newaxis,:,:], training=False).numpy()[0,:,:,0]\n",
    "recovered_img_9 = model(distorted_img_9[np.newaxis,:,:], training=False).numpy()[0,:,:,0]\n",
    "recovered_img_0 =  model(distorted_img_0[np.newaxis,:,:], training=False).numpy()[0,:,:,0]\n",
    "\n",
    "percent = 99\n",
    "perc = np.percentile(distorted_img_0, percent)\n",
    "\n",
    "# fig, axs = plt.subplots(1, 3, figsize=(10, 5), sharex=True, sharey=True)\n",
    "\n",
    "# axs[0].imshow(img_syn, vmax=perc, vmin=0)\n",
    "# axs[0].set_title(\"Synthetic Ground Thruth\")\n",
    "# axs[1].imshow(distorted_img_syn, vmax=perc, vmin=0)\n",
    "# axs[1].set_title(\"Synthetic Data\")\n",
    "# axs[2].imshow(recovered_img_syn, vmax=perc, vmin=0)\n",
    "# axs[2].set_title(\"Recovered Synthetic Data\")\n",
    "\n",
    "# fig, axs = plt.subplots(2, 2, figsize=(5, 10), sharex=True, sharey=True)\n",
    "# axs[0, 0].imshow(distorted_img_0, vmax=perc, vmin=0)\n",
    "# axs[0, 0].set_title(\"Blurred Captures\")\n",
    "# axs[0, 1].imshow(recovered_img_0, vmax=perc, vmin=0)\n",
    "# axs[0, 1].set_title(\"Recovered deepBlind Images\")\n",
    "# axs[1, 0].imshow(distorted_img_9, vmax=perc, vmin=0)\n",
    "# axs[1, 1].imshow(recovered_img_9, vmax=perc, vmin=0)\n",
    "\n",
    "# plt.show()\n",
    "\n",
    "G = xtrace.depth_spill_psf(datagen.global_config, *utils.ray_grid(datagen.global_config[\"dimensions\"]))\n",
    "recovered_img_conv_0 = deconvolution.richard_lucy(distorted_img_0, G, 6)\n",
    "\n",
    "fig, axs = plt.subplots(1, 3, figsize=(10, 5), sharex=True, sharey=True)\n",
    "axs[0].imshow(distorted_img_0, vmax=perc, vmin=0)\n",
    "axs[0].set_title(\"Detector Image\")\n",
    "axs[1].imshow(recovered_img_conv_0, vmax=perc, vmin=0)\n",
    "axs[1].set_title(\"Richard Lucy Deconvolution\")\n",
    "axs[2].imshow(recovered_img_0, vmax=perc, vmin=0)\n",
    "axs[2].set_title(\"ML deconvolution\")\n",
    "\n",
    "# fig, axs = plt.subplots(1, 3, figsize=(10, 5), sharex=True, sharey=True)\n",
    "# axs[0].imshow(img_syn, vmax=perc, vmin=0)\n",
    "# axs[0].set_title(\"Synthetic Ground Thruth\")\n",
    "# axs[1].imshow(distorted_img_syn, vmax=perc, vmin=0)\n",
    "# axs[1].set_title(\"Synthetic Data\")\n",
    "# axs[2].imshow(distorted_img_0, vmax=perc, vmin=0)\n",
    "# axs[2].set_title(\"Real Data\")\n",
    "# plt.show()\n",
    "\n",
    "distorted_conv = (G.get()@recovered_img_conv_0.flatten()).reshape(recovered_img_conv_0.shape)\n",
    "distorted_ml = (G.get()@recovered_img_0.flatten()).reshape(recovered_img_0.shape)\n",
    "\n",
    "\n",
    "vmax= np.max(np.maximum(distorted_img_0, distorted_ml, distorted_conv))\n",
    "norm = colors.PowerNorm(gamma=0.5, vmin=0, vmax=vmax)\n",
    "fig, axs = plt.subplots(1, 3, figsize=(10, 5), sharex=True, sharey=True)\n",
    "pcm = axs[0].imshow(distorted_img_0, norm=norm)\n",
    "axs[0].set_title(\"Detector Image\")\n",
    "axs[1].imshow(distorted_conv, norm=norm)\n",
    "axs[1].set_title(\"Richard Lucy, Convoluted\")\n",
    "axs[2].imshow(distorted_ml, norm=norm)\n",
    "axs[2].set_title(\"ML, Convoluted\")\n",
    "fig.colorbar(pcm, ax=axs, shrink=1, location='bottom')\n",
    "fig.suptitle(\"Visual Comparison of Inversion\")\n",
    "\n",
    "diff_rl = np.abs(distorted_img_0 - distorted_conv)\n",
    "#diff_rl = np.sign(diff_rl)*np.sqrt(np.abs(diff_rl))\n",
    "diff_ml = np.abs(distorted_img_0 - distorted_ml)\n",
    "#diff_ml = np.sign(diff_ml)*np.sqrt(np.abs(diff_ml))\n",
    "\n",
    "vmax, vmin = np.max(np.maximum(diff_rl, diff_ml)), np.min(np.minimum(diff_rl, diff_ml))\n",
    "norm = colors.PowerNorm(gamma=0.5, vmin=0, vmax=vmax)\n",
    "fig, axs = plt.subplots(1, 2, figsize=(10, 5), sharex=True, sharey=True, constrained_layout=True)\n",
    "#pcm_1 = axs[0].imshow(distorted_img_0, vmax=perc, vmin=0)\n",
    "pcm = axs[0].imshow(diff_rl, norm=norm)\n",
    "axs[0].set_title(\"Difference (original - RL)\")\n",
    "axs[1].imshow(diff_ml, norm=norm)\n",
    "axs[1].set_title(\"Difference (original - ML)\")\n",
    "fig.colorbar(pcm, ax=axs, shrink=1, location='bottom')\n",
    "plt.show()\n",
    "\n",
    "plt.figure()\n",
    "plt.imshow(distorted_img_0)\n",
    "plt.title(\"Original Image\")\n",
    "plt.colorbar()\n",
    "#Add local energy loss constraint? (ex: 10x10 area should contain about the same ammount of energy)\n",
    "#Add positivity loss constraint?\n",
    "#Try the Pecent contraint with lower randomness value -> trains on more realistic schenarios"
   ]
  },
  {
   "cell_type": "code",
   "execution_count": null,
   "id": "7b8f4806-2215-4bd0-9911-8dc6a18294f5",
   "metadata": {},
   "outputs": [],
   "source": []
  },
  {
   "cell_type": "code",
   "execution_count": null,
   "id": "77f7dad8-6abe-4db7-9598-a2f0f22894fc",
   "metadata": {},
   "outputs": [],
   "source": []
  }
 ],
 "metadata": {
  "kernelspec": {
   "display_name": "HDF5 / Simple Analysis / GPU",
   "language": "python",
   "name": "maxiv-jhub-docker-kernel-hdf5"
  },
  "language_info": {
   "codemirror_mode": {
    "name": "ipython",
    "version": 3
   },
   "file_extension": ".py",
   "mimetype": "text/x-python",
   "name": "python",
   "nbconvert_exporter": "python",
   "pygments_lexer": "ipython3",
   "version": "3.9.7"
  }
 },
 "nbformat": 4,
 "nbformat_minor": 5
}
