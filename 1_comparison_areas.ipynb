{
 "cells": [
  {
   "cell_type": "code",
   "execution_count": 1,
   "id": "cf759b8c-1d05-42cd-b991-c1a42344c67a",
   "metadata": {},
   "outputs": [
    {
     "name": "stderr",
     "output_type": "stream",
     "text": [
      "bshuf filter already loaded, skip it.\n"
     ]
    },
    {
     "data": {
      "application/vnd.jupyter.widget-view+json": {
       "model_id": "e5409587be4a47c39857d233e3247b00",
       "version_major": 2,
       "version_minor": 0
      },
      "text/plain": [
       "Canvas(toolbar=Toolbar(toolitems=[('Home', 'Reset original view', 'home', 'home'), ('Back', 'Back to previous …"
      ]
     },
     "metadata": {},
     "output_type": "display_data"
    },
    {
     "data": {
      "application/vnd.jupyter.widget-view+json": {
       "model_id": "a8cd6e9a508949e284e19efb4df72f22",
       "version_major": 2,
       "version_minor": 0
      },
      "text/plain": [
       "Canvas(toolbar=Toolbar(toolitems=[('Home', 'Reset original view', 'home', 'home'), ('Back', 'Back to previous …"
      ]
     },
     "metadata": {},
     "output_type": "display_data"
    },
    {
     "data": {
      "application/vnd.jupyter.widget-view+json": {
       "model_id": "95a4a158be40477b948d32fca14b9469",
       "version_major": 2,
       "version_minor": 0
      },
      "text/plain": [
       "Canvas(toolbar=Toolbar(toolitems=[('Home', 'Reset original view', 'home', 'home'), ('Back', 'Back to previous …"
      ]
     },
     "metadata": {},
     "output_type": "display_data"
    },
    {
     "data": {
      "application/vnd.jupyter.widget-view+json": {
       "model_id": "013288405c21451ea4338befe86b34b1",
       "version_major": 2,
       "version_minor": 0
      },
      "text/plain": [
       "Canvas(toolbar=Toolbar(toolitems=[('Home', 'Reset original view', 'home', 'home'), ('Back', 'Back to previous …"
      ]
     },
     "metadata": {},
     "output_type": "display_data"
    },
    {
     "data": {
      "application/vnd.jupyter.widget-view+json": {
       "model_id": "99bace3437134275ac02ea8b08a04e35",
       "version_major": 2,
       "version_minor": 0
      },
      "text/plain": [
       "Canvas(toolbar=Toolbar(toolitems=[('Home', 'Reset original view', 'home', 'home'), ('Back', 'Back to previous …"
      ]
     },
     "metadata": {},
     "output_type": "display_data"
    },
    {
     "data": {
      "application/vnd.jupyter.widget-view+json": {
       "model_id": "5e1d7be3234642f3bf925dc272ec5c3b",
       "version_major": 2,
       "version_minor": 0
      },
      "text/plain": [
       "Canvas(toolbar=Toolbar(toolitems=[('Home', 'Reset original view', 'home', 'home'), ('Back', 'Back to previous …"
      ]
     },
     "metadata": {},
     "output_type": "display_data"
    },
    {
     "data": {
      "application/vnd.jupyter.widget-view+json": {
       "model_id": "7823beefbfc94a75b0fe6722f2e2a681",
       "version_major": 2,
       "version_minor": 0
      },
      "text/plain": [
       "Canvas(toolbar=Toolbar(toolitems=[('Home', 'Reset original view', 'home', 'home'), ('Back', 'Back to previous …"
      ]
     },
     "metadata": {},
     "output_type": "display_data"
    }
   ],
   "source": [
    "\n",
    "%reload_ext autoreload\n",
    "%autoreload 2\n",
    "%matplotlib widget\n",
    "\n",
    "import os \n",
    "import numpy as np\n",
    "import matplotlib.pyplot as plt\n",
    "\n",
    "import examplesetup\n",
    "import lib.deconvolution as deconvolution\n",
    "import lib.utils as utils\n",
    "import lib.xtrace as xtrace\n",
    "\n",
    "project_dir = '/data/visitors/balder/20220115/2022022408'\n",
    "experiment_dir = os.path.join(project_dir, 'raw/XRD Eiger Test')\n",
    "poni_dir = os.path.join(project_dir, 'process')\n",
    "\n",
    "stacks = {\n",
    "    \"no_tilt_close\": {\n",
    "        \"filename\": 'LaB6_9_data_000001.h5',\n",
    "        \"poni\": 'samuel_9_0.poni'\n",
    "    },\n",
    "    \"large_tilt_close\": {\n",
    "       \"filename\": 'LaB6_10_data_000001.h5',\n",
    "       \"poni\": 'samuel_10_0.poni'\n",
    "    },\n",
    "    #\"small_tilt_close\": {\n",
    "    #    \"filename\": 'LaB6_11_data_000001.h5',\n",
    "    #    \"poni\": 'samuel_11_0.poni'\n",
    "    #},\n",
    "    #\"no_tilt_far\": {\n",
    "    #    \"filename\": 'LaB6_13_data_000001.h5',\n",
    "    #    \"poni\": 'samuel_13_0.poni'\n",
    "    #}\n",
    "}\n",
    "\n",
    "az_npt = 2000\n",
    "data_layer = 9\n",
    "radial = (0, 60)\n",
    "saves = {}\n",
    "\n",
    "for stack_name in stacks.keys():\n",
    "    stack = stacks[stack_name]\n",
    "    config, data = utils.load_stack(\n",
    "        os.path.join(project_dir, experiment_dir, stack[\"filename\"]),\n",
    "        os.path.join(poni_dir, stack[\"poni\"]),\n",
    "    )\n",
    "    img, mask = utils.mask(data[data_layer], False)\n",
    "    integrator = utils.azimutal_integrator(config)\n",
    "    \n",
    "    ray_grid = utils.ray_grid(config[\"dimensions\"])\n",
    "    G = xtrace.depth_spill_psf(config, *ray_grid)\n",
    "    recovered_img = deconvolution.richard_lucy(img, G, 10)\n",
    "    \n",
    "    integrated_img = integrator.integrate2d(img, az_npt, az_npt, radial_range=radial)[0]\n",
    "    integrated_recovered = integrator.integrate2d(recovered_img, az_npt, az_npt, radial_range=radial)[0]\n",
    "    saves[stack_name] = {\n",
    "        \"original_image\": img,\n",
    "        \"recovered_image\": recovered_img,\n",
    "        \"original_integrated\": integrated_img,\n",
    "        \"recovered_integrated\": integrated_recovered \n",
    "    }\n",
    "    \n",
    "comparisons = {\n",
    "    \"Full Images\": {\n",
    "        \"No Tilt - Uncorrected\": { \"source\": \"no_tilt_close\", \"image\": \"original_image\", \"area\": (slice(0,-1), slice(0,-1)) },\n",
    "        \"No Tilt - Corrected\": { \"source\": \"no_tilt_close\", \"image\": \"recovered_image\", \"area\": (slice(0,-1), slice(0,-1)) },\n",
    "        \"Tilt - Uncorrected\": { \"source\": \"large_tilt_close\", \"image\": \"original_image\", \"area\": (slice(0,-1), slice(0,-1)) },\n",
    "    },\n",
    "    \"Full Integrated Images\": {\n",
    "        \"No Tilt - Uncorrected\": { \"source\": \"no_tilt_close\", \"image\": \"original_integrated\", \"area\": (slice(0,-1), slice(0,-1)) },\n",
    "        \"No Tilt - Corrected\": { \"source\": \"no_tilt_close\", \"image\": \"recovered_integrated\", \"area\": (slice(0,-1), slice(0,-1)) },\n",
    "        \"Tilt - Uncorrected\": { \"source\": \"large_tilt_close\", \"image\": \"original_integrated\", \"area\": (slice(0,-1), slice(0,-1)) },\n",
    "    },\n",
    "    \"Compare Orthogonal to Tilted Ground Truth\": {\n",
    "        \"No Tilt - Uncorrected\": { \"source\": \"no_tilt_close\", \"image\": \"original_image\", \"area\": (slice(0,500), slice(200,300)) },\n",
    "        \"No Tilt - Corrected\": { \"source\": \"no_tilt_close\", \"image\": \"recovered_image\", \"area\": (slice(0,500), slice(200,300)) },\n",
    "        \"Tilt - Uncorrected (close to PONI)\": { \"source\": \"large_tilt_close\", \"image\": \"original_image\", \"area\": (slice(0,500), slice(0,100)) },\n",
    "    },\n",
    "    \"Compare Orthogonal to Tilted Ground Truth Zoom Bad\": {\n",
    "        \"No Tilt - Uncorrected\": { \"source\": \"no_tilt_close\", \"image\": \"original_image\", \"area\": (slice(50,150), slice(220,260)) },\n",
    "        \"No Tilt - Corrected\": { \"source\": \"no_tilt_close\", \"image\": \"recovered_image\", \"area\": (slice(50,150), slice(220,260)) },\n",
    "        \"Tilt - Uncorrected (close to PONI)\": { \"source\": \"large_tilt_close\", \"image\": \"original_image\", \"area\": (slice(50,150), slice(40,80)) },\n",
    "    },\n",
    "    \"Compare Orthogonal to Tilted Ground Truth Zoom Good\": {\n",
    "        \"No Tilt - Uncorrected\": { \"source\": \"no_tilt_close\", \"image\": \"original_image\", \"area\": (slice(300,400), slice(200,240)) },\n",
    "        \"No Tilt - Corrected\": { \"source\": \"no_tilt_close\", \"image\": \"recovered_image\", \"area\": (slice(300,400), slice(200,240)) },\n",
    "        \"Tilt - Uncorrected (close to PONI)\": { \"source\": \"large_tilt_close\", \"image\": \"original_image\", \"area\": (slice(300,400), slice(20,60)) },\n",
    "    },\n",
    "    \"Compare Tilted to Orthogonal Ground Truth(ish)\": {\n",
    "        \"No Tilt - Uncorrected\": { \"source\": \"no_tilt_close\", \"image\": \"original_image\", \"area\": (slice(150,500), slice(700,800)) },\n",
    "        \"No Tilt - Corrected\": { \"source\": \"no_tilt_close\", \"image\": \"recovered_image\", \"area\": (slice(150,500), slice(700,800)) },\n",
    "        \"Tilt - Unorrected\": { \"source\": \"large_tilt_close\", \"image\": \"original_image\", \"area\": (slice(150,500), slice(550,650)) },\n",
    "        \"Tilt - Corrected\": { \"source\": \"large_tilt_close\", \"image\": \"recovered_image\", \"area\": (slice(150,500), slice(550,650)) },\n",
    "    },\n",
    "    \"Integrated Compare Orthogonal to Tilted Ground Truth\": {\n",
    "        \"No Tilt - Uncorrected\": { \"source\": \"no_tilt_close\", \"image\": \"original_integrated\", \"area\": (slice(900*2,-1), slice(480,520)) },\n",
    "        \"No Tilt - Corrected\": { \"source\": \"no_tilt_close\", \"image\": \"recovered_integrated\", \"area\": (slice(900*2,-1), slice(480,520)) },\n",
    "        \"Tilt - Uncorrected\": { \"source\": \"large_tilt_close\", \"image\": \"original_integrated\", \"area\": (slice(900*2,-1), slice(480,520)) },\n",
    "    },\n",
    "}\n",
    "\n",
    "perc = np.percentile(saves[\"no_tilt_close\"][\"original_image\"], 99)\n",
    "\n",
    "for comp_name, comparison in comparisons.items():\n",
    "   n = len(comparison)\n",
    "   fig, axs = plt.subplots(1, n, figsize=(10, 10), sharex=True, sharey=True)\n",
    "   fig.suptitle(comp_name)\n",
    "   for i, (name, info) in enumerate(comparison.items()):\n",
    "        im = saves[info[\"source\"]][info[\"image\"]][info[\"area\"]]\n",
    "        axs[i].imshow(im, vmax=perc)\n",
    "        axs[i].set_title(name)\n",
    "\n",
    "plt.tight_layout()"
   ]
  },
  {
   "cell_type": "code",
   "execution_count": null,
   "id": "3e9edcb1-9962-4ddf-a5a6-8fa7289de4a0",
   "metadata": {},
   "outputs": [],
   "source": []
  }
 ],
 "metadata": {
  "kernelspec": {
   "display_name": "HDF5 / Simple Analysis / GPU",
   "language": "python",
   "name": "maxiv-jhub-docker-kernel-hdf5"
  },
  "language_info": {
   "codemirror_mode": {
    "name": "ipython",
    "version": 3
   },
   "file_extension": ".py",
   "mimetype": "text/x-python",
   "name": "python",
   "nbconvert_exporter": "python",
   "pygments_lexer": "ipython3",
   "version": "3.9.7"
  }
 },
 "nbformat": 4,
 "nbformat_minor": 5
}
