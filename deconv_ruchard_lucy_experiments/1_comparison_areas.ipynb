{
 "cells": [
  {
   "cell_type": "code",
   "execution_count": 12,
   "id": "cf759b8c-1d05-42cd-b991-c1a42344c67a",
   "metadata": {},
   "outputs": [
    {
     "data": {
      "application/vnd.jupyter.widget-view+json": {
       "model_id": "6f47a3f801c14923b9ccc76b112c3b24",
       "version_major": 2,
       "version_minor": 0
      },
      "text/plain": [
       "Canvas(toolbar=Toolbar(toolitems=[('Home', 'Reset original view', 'home', 'home'), ('Back', 'Back to previous …"
      ]
     },
     "metadata": {},
     "output_type": "display_data"
    },
    {
     "data": {
      "application/vnd.jupyter.widget-view+json": {
       "model_id": "cc12aede897243e4a2e2f3190d93f3fc",
       "version_major": 2,
       "version_minor": 0
      },
      "text/plain": [
       "Canvas(toolbar=Toolbar(toolitems=[('Home', 'Reset original view', 'home', 'home'), ('Back', 'Back to previous …"
      ]
     },
     "metadata": {},
     "output_type": "display_data"
    },
    {
     "data": {
      "application/vnd.jupyter.widget-view+json": {
       "model_id": "d7b8f8ccd8634441b18e6d08cd9b01db",
       "version_major": 2,
       "version_minor": 0
      },
      "text/plain": [
       "Canvas(toolbar=Toolbar(toolitems=[('Home', 'Reset original view', 'home', 'home'), ('Back', 'Back to previous …"
      ]
     },
     "metadata": {},
     "output_type": "display_data"
    },
    {
     "data": {
      "application/vnd.jupyter.widget-view+json": {
       "model_id": "bdbd9769acd64f998507fdd59a1ce08f",
       "version_major": 2,
       "version_minor": 0
      },
      "text/plain": [
       "Canvas(toolbar=Toolbar(toolitems=[('Home', 'Reset original view', 'home', 'home'), ('Back', 'Back to previous …"
      ]
     },
     "metadata": {},
     "output_type": "display_data"
    },
    {
     "data": {
      "application/vnd.jupyter.widget-view+json": {
       "model_id": "478f75f2657d40909887659888a366c9",
       "version_major": 2,
       "version_minor": 0
      },
      "text/plain": [
       "Canvas(toolbar=Toolbar(toolitems=[('Home', 'Reset original view', 'home', 'home'), ('Back', 'Back to previous …"
      ]
     },
     "metadata": {},
     "output_type": "display_data"
    }
   ],
   "source": [
    "\n",
    "%reload_ext autoreload\n",
    "%autoreload 2\n",
    "%matplotlib widget\n",
    "if 'NOTEBOOK_INITIATED_FLAG' not in globals():\n",
    "    NOTEBOOK_INITIATED_FLAG = True\n",
    "    %cd ..\n",
    "import os \n",
    "import numpy as np\n",
    "import matplotlib.pyplot as plt\n",
    "\n",
    "import examplesetup\n",
    "import lib.deconvolution as deconvolution\n",
    "import lib.utils as utils\n",
    "import lib.xtrace as xtrace\n",
    "\n",
    "project_dir = '/data/visitors/balder/20220115/2022022408'\n",
    "experiment_dir = os.path.join(project_dir, 'raw/XRD Eiger Test')\n",
    "poni_dir = os.path.join(project_dir, 'process')\n",
    "\n",
    "stacks = {\n",
    "    \"no_tilt_close\": {\n",
    "        \"filename\": 'LaB6_9_data_000001.h5',\n",
    "        \"poni\": 'samuel_9_0.poni'\n",
    "    },\n",
    "    \"large_tilt_close\": {\n",
    "       \"filename\": 'LaB6_10_data_000001.h5',\n",
    "       \"poni\": 'samuel_10_0.poni'\n",
    "    },\n",
    "}\n",
    "\n",
    "data_layer = 9\n",
    "saves = {}\n",
    "\n",
    "for stack_name in stacks.keys():\n",
    "    stack = stacks[stack_name]\n",
    "    config, data = utils.load_stack(\n",
    "        os.path.join(project_dir, experiment_dir, stack[\"filename\"]),\n",
    "        os.path.join(poni_dir, stack[\"poni\"]),\n",
    "    )\n",
    "    img, mask = utils.mask(data[data_layer], False)\n",
    "    ray_grid = utils.ray_grid(config[\"dimensions\"])\n",
    "    G = xtrace.depth_spill_psf(config, *ray_grid)\n",
    "    recovered_img = deconvolution.richard_lucy(img, G, 10)\n",
    "    saves[stack_name] = {\n",
    "        \"original_image\": img,\n",
    "        \"recovered_image\": recovered_img,\n",
    "    }\n",
    "\n",
    "img = saves[\"large_tilt_close\"][\"original_image\"]\n",
    "perc = np.percentile(img, 99.9)\n",
    "plt.figure(figsize=(10,10))\n",
    "plt.imshow(img, vmax=perc, vmin=0)\n",
    "plt.show()\n",
    "comparisons = {\n",
    "    \"Full Images\": {\n",
    "        \"No Tilt - Uncorrected\": { \"source\": \"no_tilt_close\", \"image\": \"original_image\", \"area\": (slice(0,-1), slice(0,-1)) },\n",
    "        \"No Tilt - Corrected\": { \"source\": \"no_tilt_close\", \"image\": \"recovered_image\", \"area\": (slice(0,-1), slice(0,-1)) },\n",
    "        \"Tilt - Uncorrected\": { \"source\": \"large_tilt_close\", \"image\": \"original_image\", \"area\": (slice(0,-1), slice(0,-1)) },\n",
    "    },\n",
    "    \"Compare Orthogonal to Tilted Ground Truth\": {\n",
    "        \"No Tilt - Uncorrected\": { \"source\": \"no_tilt_close\", \"image\": \"original_image\", \"area\": (slice(0,500), slice(200,300)) },\n",
    "        \"No Tilt - Corrected\": { \"source\": \"no_tilt_close\", \"image\": \"recovered_image\", \"area\": (slice(0,500), slice(200,300)) },\n",
    "        \"Tilt - Uncorrected (close to PONI)\": { \"source\": \"large_tilt_close\", \"image\": \"original_image\", \"area\": (slice(0,500), slice(0,100)) },\n",
    "    },\n",
    "    \"Compare Orthogonal to Tilted Ground Truth Zoom Bad\": {\n",
    "        \"No Tilt - Uncorrected\": { \"source\": \"no_tilt_close\", \"image\": \"original_image\", \"area\": (slice(50,150), slice(220,260)) },\n",
    "        \"No Tilt - Corrected\": { \"source\": \"no_tilt_close\", \"image\": \"recovered_image\", \"area\": (slice(50,150), slice(220,260)) },\n",
    "        \"Tilt - Uncorrected (close to PONI)\": { \"source\": \"large_tilt_close\", \"image\": \"original_image\", \"area\": (slice(50,150), slice(40,80)) },\n",
    "    },\n",
    "    \"Compare Orthogonal to Tilted Ground Truth Zoom Good\": {\n",
    "        \"No Tilt - Uncorrected\": { \"source\": \"no_tilt_close\", \"image\": \"original_image\", \"area\": (slice(300,400), slice(200,240)) },\n",
    "        \"No Tilt - Corrected\": { \"source\": \"no_tilt_close\", \"image\": \"recovered_image\", \"area\": (slice(300,400), slice(200,240)) },\n",
    "        \"Tilt - Uncorrected (close to PONI)\": { \"source\": \"large_tilt_close\", \"image\": \"original_image\", \"area\": (slice(300,400), slice(20,60)) },\n",
    "    },\n",
    "}\n",
    "\n",
    "perc = np.percentile(saves[\"no_tilt_close\"][\"original_image\"], 99)\n",
    "\n",
    "for comp_name, comparison in comparisons.items():\n",
    "   n = len(comparison)\n",
    "   fig, axs = plt.subplots(1, n, figsize=(10, 10), sharex=True, sharey=True)\n",
    "   fig.suptitle(comp_name)\n",
    "   for i, (name, info) in enumerate(comparison.items()):\n",
    "        im = saves[info[\"source\"]][info[\"image\"]][info[\"area\"]]\n",
    "        axs[i].imshow(im, vmax=perc)\n",
    "        axs[i].set_title(name)\n",
    "        plt.tight_layout()\n",
    "plt.show()"
   ]
  },
  {
   "cell_type": "code",
   "execution_count": null,
   "id": "3e9edcb1-9962-4ddf-a5a6-8fa7289de4a0",
   "metadata": {},
   "outputs": [],
   "source": []
  }
 ],
 "metadata": {
  "kernelspec": {
   "display_name": "HDF5 / Simple Analysis / GPU",
   "language": "python",
   "name": "maxiv-jhub-docker-kernel-hdf5"
  },
  "language_info": {
   "codemirror_mode": {
    "name": "ipython",
    "version": 3
   },
   "file_extension": ".py",
   "mimetype": "text/x-python",
   "name": "python",
   "nbconvert_exporter": "python",
   "pygments_lexer": "ipython3",
   "version": "3.9.7"
  }
 },
 "nbformat": 4,
 "nbformat_minor": 5
}
