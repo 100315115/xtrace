{
 "cells": [
  {
   "cell_type": "code",
   "execution_count": 121,
   "id": "23e8f513-bcf9-4d07-b32b-28658a0072df",
   "metadata": {},
   "outputs": [
    {
     "ename": "ModuleNotFoundError",
     "evalue": "No module named 'tensorflow'",
     "output_type": "error",
     "traceback": [
      "\u001b[0;31m---------------------------------------------------------------------------\u001b[0m",
      "\u001b[0;31mModuleNotFoundError\u001b[0m                       Traceback (most recent call last)",
      "\u001b[0;32m/tmp/ipykernel_5211/2313947585.py\u001b[0m in \u001b[0;36m<cell line: 18>\u001b[0;34m()\u001b[0m\n\u001b[1;32m     16\u001b[0m \u001b[0mrng\u001b[0m \u001b[0;34m=\u001b[0m \u001b[0mdefault_rng\u001b[0m\u001b[0;34m(\u001b[0m\u001b[0;34m)\u001b[0m\u001b[0;34m\u001b[0m\u001b[0;34m\u001b[0m\u001b[0m\n\u001b[1;32m     17\u001b[0m \u001b[0;34m\u001b[0m\u001b[0m\n\u001b[0;32m---> 18\u001b[0;31m \u001b[0;32mimport\u001b[0m \u001b[0mtensorflow\u001b[0m \u001b[0;32mas\u001b[0m \u001b[0mtf\u001b[0m\u001b[0;34m\u001b[0m\u001b[0;34m\u001b[0m\u001b[0m\n\u001b[0m\u001b[1;32m     19\u001b[0m \u001b[0;34m\u001b[0m\u001b[0m\n\u001b[1;32m     20\u001b[0m \u001b[0;34m\u001b[0m\u001b[0m\n",
      "\u001b[0;31mModuleNotFoundError\u001b[0m: No module named 'tensorflow'"
     ]
    }
   ],
   "source": [
    "%reload_ext autoreload\n",
    "%autoreload 2\n",
    "%matplotlib inline\n",
    "\n",
    "import os \n",
    "import numpy as np\n",
    "import matplotlib.pyplot as plt\n",
    "from matplotlib import image\n",
    "\n",
    "import examplesetup\n",
    "import lib.deconvolution as deconvolution\n",
    "import lib.utils as utils\n",
    "import lib.xtrace as xtrace\n",
    "\n",
    "from numpy.random import default_rng\n",
    "rng = default_rng()\n",
    "\n",
    "import tensorflow as tf\n",
    "\n",
    "\n",
    "def random_image(dimensions):\n",
    "    intensities = rng.random(dimensions)\n",
    "    hit = rng.random(dimensions) > 0.1*rng.random()\n",
    "    intensities[hit] = 0\n",
    "    return intensities\n",
    "\n",
    "def synthetic_depth_blur_psf(dimensions):\n",
    "    dim = np.max(dimensions)\n",
    "    \n",
    "    config = {\n",
    "    \"detector\": {\n",
    "            \"pixel_dims\": np.array([1.0, 1.0, 3.0]),\n",
    "            \"mu\":  0.3\n",
    "        },\n",
    "    \"dimensions\": np.array(dimensions),\n",
    "    \"ray_origin\": np.array([dimensions[0]/3, dimensions[1]/3, dimensions[1]/3]),\n",
    "    }\n",
    "    # config = { #RANDOM CONFIG\n",
    "    # \"detector\": {\n",
    "    #         \"pixel_dims\": np.array([1.0, 1.0, 5*rng.random() + 0.1]),\n",
    "    #         \"mu\":  rng.random()\n",
    "    #     },\n",
    "    # \"dimensions\": np.array(dimensions),\n",
    "    # \"ray_origin\": np.array([\n",
    "    #         dim*rng.normal() + dimensions[0]/2,\n",
    "    #         dim*rng.normal() + + dimensions[1]/2,\n",
    "    #         2*dim*rng.exponential() + 1\n",
    "    #     ]),\n",
    "    # }\n",
    "    \n",
    "    N = np.prod(dimensions)\n",
    "    ray_grid = utils.random_ray_grid(dimensions)\n",
    "    G = xtrace.depth_spill_psf(config, *ray_grid)\n",
    "    return G\n",
    "\n",
    "def apply_blur(img, G=None):\n",
    "    if G is None:\n",
    "        G = synthetic_depth_blur_psf(img.shape)\n",
    "    distorted_img = (G.get()@img.flatten()).reshape(img.shape)\n",
    "    distorted_img += 0.03*rng.poisson(10,img.shape)/10\n",
    "    return distorted_img\n",
    "\n",
    "dimensions = np.array([100, 100])\n",
    "img = random_image(dimensions)\n",
    "distorted_img = apply_blur(img)\n",
    "\n",
    "fig, axs = plt.subplots(1, 2, figsize=(20, 10))\n",
    "axs[0].imshow(img)\n",
    "axs[1].imshow(distorted_img)\n",
    "\n",
    "#https://medium.com/analytics-vidhya/write-your-own-custom-data-generator-for-tensorflow-keras-1252b64e41c3\n",
    "\n",
    "plt.show()"
   ]
  },
  {
   "cell_type": "code",
   "execution_count": null,
   "id": "9e1a1f43-6314-42d9-bf81-424bee5b72e9",
   "metadata": {},
   "outputs": [],
   "source": []
  },
  {
   "cell_type": "code",
   "execution_count": null,
   "id": "48a01f10-6c2f-4459-82a4-15324cda70ae",
   "metadata": {},
   "outputs": [],
   "source": []
  },
  {
   "cell_type": "code",
   "execution_count": null,
   "id": "2984d127-0ff1-4169-b921-25e10dfa1b99",
   "metadata": {},
   "outputs": [],
   "source": []
  }
 ],
 "metadata": {
  "kernelspec": {
   "display_name": "HDF5 / Simple Analysis / GPU",
   "language": "python",
   "name": "maxiv-jhub-docker-kernel-hdf5"
  },
  "language_info": {
   "codemirror_mode": {
    "name": "ipython",
    "version": 3
   },
   "file_extension": ".py",
   "mimetype": "text/x-python",
   "name": "python",
   "nbconvert_exporter": "python",
   "pygments_lexer": "ipython3",
   "version": "3.9.7"
  }
 },
 "nbformat": 4,
 "nbformat_minor": 5
}
