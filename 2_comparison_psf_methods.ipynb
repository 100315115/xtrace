{
 "cells": [
  {
   "cell_type": "code",
   "execution_count": 17,
   "id": "a9cca9f5-26d7-4991-9627-de9a1aa1a3ce",
   "metadata": {},
   "outputs": [
    {
     "name": "stdout",
     "output_type": "stream",
     "text": [
      "{'detector': {'pixel_dims': array([ 75.,  75., 450.]), 'mu': 0.0034459300000000003}, 'dimensions': array([1065, 1030]), 'ray_origin': array([24552.87386032, 86782.17984339, 80442.15320462]), 'wavelength': 1.0332016536100021e-10, 'ray_rotations': array([0., 0., 0.])}\n"
     ]
    },
    {
     "data": {
      "application/vnd.jupyter.widget-view+json": {
       "model_id": "09951ab567df486eaa6dd5ef3e902cbe",
       "version_major": 2,
       "version_minor": 0
      },
      "text/plain": [
       "Canvas(toolbar=Toolbar(toolitems=[('Home', 'Reset original view', 'home', 'home'), ('Back', 'Back to previous …"
      ]
     },
     "metadata": {},
     "output_type": "display_data"
    },
    {
     "data": {
      "application/vnd.jupyter.widget-view+json": {
       "model_id": "3bf9a4ae1a6d4177b146a404f868b7f8",
       "version_major": 2,
       "version_minor": 0
      },
      "text/plain": [
       "Canvas(toolbar=Toolbar(toolitems=[('Home', 'Reset original view', 'home', 'home'), ('Back', 'Back to previous …"
      ]
     },
     "metadata": {},
     "output_type": "display_data"
    }
   ],
   "source": [
    "\n",
    "%reload_ext autoreload\n",
    "%autoreload 2\n",
    "%matplotlib widget\n",
    "\n",
    "import os \n",
    "import numpy as np\n",
    "import matplotlib.pyplot as plt\n",
    "\n",
    "import examplesetup\n",
    "import lib.deconvolution as deconvolution\n",
    "import lib.utils as utils\n",
    "import lib.xtrace as xtrace\n",
    "\n",
    "project_dir = '/data/visitors/balder/20220115/2022022408'\n",
    "experiment_dir = os.path.join(project_dir, 'raw/XRD Eiger Test')\n",
    "poni_dir = os.path.join(project_dir, 'process')\n",
    "data_layer = 5\n",
    "\n",
    "config, data = utils.load_stack(\n",
    "    os.path.join(experiment_dir, 'LaB6_9_data_000001.h5'),\n",
    "    os.path.join(poni_dir, 'samuel_9_0.poni'),\n",
    ")\n",
    "img, mask = utils.mask(data[data_layer], False)\n",
    "\n",
    "area = (slice(50,150), slice(220,320)) #(slice(300,400), slice(200,240))\n",
    "\n",
    "recovered_img, G = utils.deconvolve(config, img, 1)\n",
    "config_loc, img_loc = utils.local_transform(config, img, area)\n",
    "recovered_local_img, G_loc = utils.deconvolve(config_loc, img_loc, 1)\n",
    "zoom = 2\n",
    "config_upsamp, img_upsamp = utils.upsample_transform(config_loc, img_loc, z=zoom)\n",
    "recovered_img_upsamp_highres, G_upsamp = utils.deconvolve(config_upsamp, img_upsamp, 1)\n",
    "recovered_img_upsamp = utils.downsample_img(recovered_img_upsamp_highres, z=zoom)\n",
    "\n",
    "perc = np.percentile(img, 99)\n",
    "fig, axs = plt.subplots(1, 4, figsize=(10, 10))\n",
    "axs[0].imshow(img[area], vmax=perc)\n",
    "axs[1].imshow(recovered_img[area], vmax=perc)\n",
    "axs[2].imshow(recovered_local_img, vmax=perc)\n",
    "axs[3].imshow(recovered_img_upsamp, vmax=perc)\n",
    "plt.tight_layout()\n",
    "\n",
    "plt.figure()\n",
    "plt.plot(img[area][:,22], '*-')\n",
    "plt.plot(img[area][:,21], '*-')\n",
    "plt.plot(img[area][:,20], '*-')\n",
    "plt.plot(img[area][:,19], '*-')\n",
    "plt.show()"
   ]
  },
  {
   "cell_type": "code",
   "execution_count": null,
   "id": "cdfe3992-5e12-4bf2-afc1-0b3f33b69fc5",
   "metadata": {},
   "outputs": [],
   "source": []
  }
 ],
 "metadata": {
  "kernelspec": {
   "display_name": "HDF5 / Simple Analysis / GPU",
   "language": "python",
   "name": "maxiv-jhub-docker-kernel-hdf5"
  },
  "language_info": {
   "codemirror_mode": {
    "name": "ipython",
    "version": 3
   },
   "file_extension": ".py",
   "mimetype": "text/x-python",
   "name": "python",
   "nbconvert_exporter": "python",
   "pygments_lexer": "ipython3",
   "version": "3.9.7"
  }
 },
 "nbformat": 4,
 "nbformat_minor": 5
}
