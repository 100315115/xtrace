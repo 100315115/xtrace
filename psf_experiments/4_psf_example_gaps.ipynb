{
 "cells": [
  {
   "cell_type": "markdown",
   "id": "a6af58a2-b321-4c48-bba1-9be3b3140a1e",
   "metadata": {},
   "source": [
    "# PSF basic example with a detector with wide-pixels"
   ]
  },
  {
   "cell_type": "code",
   "execution_count": 1,
   "id": "553cdbfa-3112-480d-942f-2a6bbe742e03",
   "metadata": {},
   "outputs": [],
   "source": [
    "import sys\n",
    "sys.path.insert(0,'./..')\n",
    "sys.path.insert(0,'./../lib')"
   ]
  },
  {
   "cell_type": "code",
   "execution_count": 2,
   "id": "94f93110-815a-4718-9c46-6e2ba6717fb7",
   "metadata": {},
   "outputs": [
    {
     "name": "stderr",
     "output_type": "stream",
     "text": [
      "WARNING:hdf5plugin:bshuf filter already loaded, skip it.\n"
     ]
    },
    {
     "data": {
      "image/png": "[encoded data removed]",
      "text/plain": [
       "<Figure size 1000x1000 with 2 Axes>"
      ]
     },
     "metadata": {},
     "output_type": "display_data"
    }
   ],
   "source": [
    "%reload_ext autoreload\n",
    "%autoreload 2\n",
    "%matplotlib inline\n",
    "\n",
    "import numpy as np\n",
    "import matplotlib.pyplot as plt\n",
    "\n",
    "import examplesetup\n",
    "import lib.deconvolution as deconvolution\n",
    "import lib.utils as utils\n",
    "import lib.xtrace as xtrace\n",
    "\n",
    "#Square detector, 100x100 pixels\n",
    "detector_width = 1030\n",
    "detector_height = 514\n",
    "\n",
    "#PSF generation parameters\n",
    "config = {\n",
    "    \"detector\": {\n",
    "         #pixel dimensions\n",
    "        \"pixel_dims\": np.array([1.0, 1.0, 3.0]),\n",
    "        #energy absorbtion rate of detector material:\n",
    "        \"mu\":  0.3\n",
    "    },\n",
    "    #detector dimensions:\n",
    "    \"dimensions\": np.array([detector_height, detector_width]), \n",
    "    #ray origin position relative to upper left corner of detector:\n",
    "    \"ray_origin\": np.array([256+0.5, detector_width//8+0.5, detector_width/3]), \n",
    "}\n",
    "\n",
    "#grid of rays that will hit the detector for estimating PSF\n",
    "ray_grid = utils.ray_grid(config[\"dimensions\"])\n",
    "#sparse matrix encoding the spatially variant PSF\n",
    "G = xtrace.depth_spill_psf(config, *ray_grid)\n",
    "\n",
    "#construct example image\n",
    "img = np.zeros(config[\"dimensions\"])\n",
    "img[256,detector_width//8] = 1\n",
    "#img[10:20, 70:80] = 1\n",
    "#img[::10,::10] = 1\n",
    "\n",
    "#Apply the point spread function to our image\n",
    "distorted_img = (G.get()@img.flatten()).reshape(img.shape)\n",
    "\n",
    "fig, axs = plt.subplots(1, 2, figsize=(10,10))\n",
    "axs[0].imshow(img)\n",
    "axs[0].set_title(\"Non-blurred image (what we would like to reconstruct)\")\n",
    "#axs[0].plot(*config[\"ray_origin\"][:2][::-1], 'rx')\n",
    "axs[1].imshow(distorted_img)\n",
    "axs[1].set_title(\"Image captured by detector\")\n",
    "#axs[1].plot(*config[\"ray_origin\"][:2][::-1], 'rx')\n",
    "plt.show()"
   ]
  },
  {
   "cell_type": "code",
   "execution_count": 3,
   "id": "7c24e62f-891e-4faf-ad13-67c49a913ac3",
   "metadata": {},
   "outputs": [
    {
     "name": "stdout",
     "output_type": "stream",
     "text": [
      "1 1\n"
     ]
    }
   ],
   "source": [
    "print(np.count_nonzero(img),np.count_nonzero(distorted_img))"
   ]
  },
  {
   "cell_type": "code",
   "execution_count": 4,
   "id": "5df7477c-902e-4f69-afcc-7322ea093a12",
   "metadata": {},
   "outputs": [
    {
     "name": "stdout",
     "output_type": "stream",
     "text": [
      "[256 128] 1.0\n"
     ]
    }
   ],
   "source": [
    "idx = np.argwhere(img)\n",
    "print( idx[0], img[idx[0][0],idx[0][1]]  )"
   ]
  },
  {
   "cell_type": "code",
   "execution_count": 5,
   "id": "2b35a446-a848-4748-822d-c154434c05e9",
   "metadata": {},
   "outputs": [
    {
     "data": {
      "text/plain": [
       "<cupyx.scipy.sparse.csr.csr_matrix at 0x7f804dd4c0d0>"
      ]
     },
     "execution_count": 5,
     "metadata": {},
     "output_type": "execute_result"
    }
   ],
   "source": [
    "G"
   ]
  },
  {
   "cell_type": "code",
   "execution_count": 6,
   "id": "e65aaa16-f23d-4c63-a1ca-55b96a2b01f2",
   "metadata": {},
   "outputs": [
    {
     "data": {
      "text/plain": [
       "<529420x529420 sparse matrix of type '<class 'numpy.float64'>'\n",
       "\twith 2941436 stored elements in Compressed Sparse Row format>"
      ]
     },
     "execution_count": 6,
     "metadata": {},
     "output_type": "execute_result"
    }
   ],
   "source": [
    "G.get()"
   ]
  },
  {
   "cell_type": "code",
   "execution_count": null,
   "id": "dad35871-ed1b-44a3-9ebe-50c462be0392",
   "metadata": {},
   "outputs": [],
   "source": []
  }
 ],
 "metadata": {
  "kernelspec": {
   "display_name": "HDF5 / Simple Analysis / GPU",
   "language": "python",
   "name": "maxiv-jhub-docker-kernel-hdf5"
  },
  "language_info": {
   "codemirror_mode": {
    "name": "ipython",
    "version": 3
   },
   "file_extension": ".py",
   "mimetype": "text/x-python",
   "name": "python",
   "nbconvert_exporter": "python",
   "pygments_lexer": "ipython3",
   "version": "3.9.7"
  },
  "widgets": {
   "application/vnd.jupyter.widget-state+json": {
    "state": {},
    "version_major": 2,
    "version_minor": 0
   }
  }
 },
 "nbformat": 4,
 "nbformat_minor": 5
}
