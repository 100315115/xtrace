{
 "cells": [
  {
   "cell_type": "code",
   "execution_count": 1,
   "id": "81a6048e-2a4d-4740-9b9c-887ac8d6060b",
   "metadata": {},
   "outputs": [
    {
     "name": "stderr",
     "output_type": "stream",
     "text": [
      "bshuf filter already loaded, skip it.\n"
     ]
    },
    {
     "name": "stdout",
     "output_type": "stream",
     "text": [
      "syn-max: 1.9964286197422432 real-max 3.244859\n"
     ]
    },
    {
     "data": {
      "application/vnd.jupyter.widget-view+json": {
       "model_id": "0fe1e5f0921445c4904c63246cb2cb2d",
       "version_major": 2,
       "version_minor": 0
      },
      "text/plain": [
       "Canvas(toolbar=Toolbar(toolitems=[('Home', 'Reset original view', 'home', 'home'), ('Back', 'Back to previous …"
      ]
     },
     "metadata": {},
     "output_type": "display_data"
    },
    {
     "name": "stdout",
     "output_type": "stream",
     "text": [
      "0.000865 0.030744064116937586\n"
     ]
    },
    {
     "data": {
      "application/vnd.jupyter.widget-view+json": {
       "model_id": "e524576abcf54200ba1070f914a6af4c",
       "version_major": 2,
       "version_minor": 0
      },
      "text/plain": [
       "Canvas(toolbar=Toolbar(toolitems=[('Home', 'Reset original view', 'home', 'home'), ('Back', 'Back to previous …"
      ]
     },
     "metadata": {},
     "output_type": "display_data"
    },
    {
     "data": {
      "application/vnd.jupyter.widget-view+json": {
       "model_id": "f99acb6ea0614e9d844966e30ca3bc17",
       "version_major": 2,
       "version_minor": 0
      },
      "text/plain": [
       "Canvas(toolbar=Toolbar(toolitems=[('Home', 'Reset original view', 'home', 'home'), ('Back', 'Back to previous …"
      ]
     },
     "metadata": {},
     "output_type": "display_data"
    },
    {
     "data": {
      "text/plain": [
       "<matplotlib.image.AxesImage at 0x7fd4283639a0>"
      ]
     },
     "execution_count": 1,
     "metadata": {},
     "output_type": "execute_result"
    }
   ],
   "source": [
    "%reload_ext autoreload\n",
    "%autoreload 2\n",
    "%matplotlib widget\n",
    "\n",
    "import os \n",
    "import numpy as np\n",
    "import matplotlib.pyplot as plt\n",
    "\n",
    "import examplesetup\n",
    "import lib.deconvolution as deconvolution\n",
    "import lib.utils as utils\n",
    "import lib.xtrace as xtrace\n",
    "import lib.datagen as datagen\n",
    "\n",
    "project_dir = '/data/visitors/balder/20220115/2022022408'\n",
    "experiment_dir = os.path.join(project_dir, 'raw/XRD Eiger Test')\n",
    "poni_dir = os.path.join(project_dir, 'process')\n",
    "data_layer = 0\n",
    "\n",
    "config, data = utils.load_stack(\n",
    "    os.path.join(experiment_dir, 'LaB6_9_data_000001.h5'),\n",
    "    os.path.join(poni_dir, 'samuel_9_0.poni'),\n",
    ")\n",
    "\n",
    "img, mask = utils.mask(data[data_layer], False)\n",
    "img = img.astype(float)/1e6\n",
    "ray_grid = utils.ray_grid(config[\"dimensions\"])\n",
    "G = xtrace.depth_spill_psf(config, *ray_grid)\n",
    "\n",
    "img_syn = datagen.apply_blur(datagen.random_image(config[\"dimensions\"]), G, True)\n",
    "from scipy import special\n",
    "print(\"syn-max:\", img_syn.max(), \"real-max\", img.max())\n",
    "bins = 100\n",
    "range=(0, 4)\n",
    "plt.figure(figsize=(10, 10))\n",
    "plt.hist(img.flatten(), bins=bins, log=True, fc=(0, 0, 1, 0.5), density=True, range=range)\n",
    "plt.hist(img_syn.flatten(), bins=bins, fc=(1, 0, 1, 0.5), density=True, range=range)\n",
    "\n",
    "percent = 99\n",
    "perc = np.percentile(img, percent)\n",
    "perc_2 = np.percentile(img_syn, percent)\n",
    "print(perc, perc_2)\n",
    "plt.figure(figsize=(10, 10))\n",
    "plt.imshow(img, vmax=perc, vmin=0)\n",
    "plt.figure(figsize=(10, 10))\n",
    "plt.imshow(img_syn, vmax=perc, vmin=0)"
   ]
  },
  {
   "cell_type": "code",
   "execution_count": null,
   "id": "bc6e77a9-0ca4-4d38-bd13-af42f3659ebd",
   "metadata": {},
   "outputs": [],
   "source": []
  }
 ],
 "metadata": {
  "kernelspec": {
   "display_name": "HDF5 / Simple Analysis / GPU",
   "language": "python",
   "name": "maxiv-jhub-docker-kernel-hdf5"
  },
  "language_info": {
   "codemirror_mode": {
    "name": "ipython",
    "version": 3
   },
   "file_extension": ".py",
   "mimetype": "text/x-python",
   "name": "python",
   "nbconvert_exporter": "python",
   "pygments_lexer": "ipython3",
   "version": "3.9.7"
  }
 },
 "nbformat": 4,
 "nbformat_minor": 5
}
