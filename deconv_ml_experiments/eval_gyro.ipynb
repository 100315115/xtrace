{
 "cells": [
  {
   "cell_type": "code",
   "execution_count": 3,
   "id": "30030e69-ec0d-44d7-9574-f8ecdb3d7d2b",
   "metadata": {},
   "outputs": [
    {
     "data": {
      "application/vnd.jupyter.widget-view+json": {
       "model_id": "c51e24d3bde04edfb292502568202116",
       "version_major": 2,
       "version_minor": 0
      },
      "text/plain": [
       "Canvas(toolbar=Toolbar(toolitems=[('Home', 'Reset original view', 'home', 'home'), ('Back', 'Back to previous …"
      ]
     },
     "metadata": {},
     "output_type": "display_data"
    },
    {
     "data": {
      "application/vnd.jupyter.widget-view+json": {
       "model_id": "8148c3d86a6b4204add85d6e40002289",
       "version_major": 2,
       "version_minor": 0
      },
      "text/plain": [
       "Canvas(toolbar=Toolbar(toolitems=[('Home', 'Reset original view', 'home', 'home'), ('Back', 'Back to previous …"
      ]
     },
     "metadata": {},
     "output_type": "display_data"
    },
    {
     "data": {
      "application/vnd.jupyter.widget-view+json": {
       "model_id": "e34446e637404e039aa876a93c15983a",
       "version_major": 2,
       "version_minor": 0
      },
      "text/plain": [
       "Canvas(toolbar=Toolbar(toolitems=[('Home', 'Reset original view', 'home', 'home'), ('Back', 'Back to previous …"
      ]
     },
     "metadata": {},
     "output_type": "display_data"
    }
   ],
   "source": [
    "%reload_ext autoreload\n",
    "%autoreload 2\n",
    "%matplotlib widget\n",
    "if 'NOTEBOOK_INITIATED_FLAG' not in globals():\n",
    "    NOTEBOOK_INITIATED_FLAG = True\n",
    "    %cd ..\n",
    "import os \n",
    "import numpy as np\n",
    "import matplotlib.pyplot as plt\n",
    "from matplotlib import image\n",
    "\n",
    "import examplesetup\n",
    "import lib.deconvolution as deconvolution\n",
    "import lib.utils as utils\n",
    "import lib.xtrace as xtrace\n",
    "import lib.datagen as datagen\n",
    "\n",
    "from numpy.random import default_rng\n",
    "rng = default_rng()\n",
    "\n",
    "import tensorflow as tf\n",
    "from tensorflow import keras\n",
    "import numpy as np\n",
    "\n",
    "model_name = \"pos_batch_deconvolve\"\n",
    "model = keras.models.load_model(f'trained_networks/{model_name}.h5')\n",
    "#img = image.imread(\"example_image.png\").sum(axis=2)\n",
    "inputs, img_syn = datagen.get_synthetic_data_pair_positional(randconfig=True, spread=0.01)\n",
    "distorted_img_syn, xdiff, ydiff = inputs\n",
    "distorted_img_9 = np.load('example_files/test_data_9.npy')/1e6\n",
    "distorted_img_0 = np.load('example_files/test_data_0.npy')/1e6\n",
    "\n",
    "\n",
    "xdiff_r, ydiff_r = xtrace.depth_offsets(datagen.global_config, *utils.ray_grid(datagen.global_config[\"dimensions\"]))\n",
    "recovered_img_syn = model(np.transpose(inputs, (1, 2, 0))[np.newaxis], training=False).numpy()[0,:,:,0]\n",
    "recovered_img_9 = model(np.stack((distorted_img_9, xdiff_r, ydiff_r), axis=2)[np.newaxis], training=False).numpy()[0,:,:,0]\n",
    "recovered_img_0 =  model(np.stack((distorted_img_0, xdiff_r, ydiff_r), axis=2)[np.newaxis], training=False).numpy()[0,:,:,0]\n",
    "\n",
    "percent = 99.6\n",
    "perc = np.percentile(distorted_img_0, percent)\n",
    "\n",
    "fig, axs = plt.subplots(1, 3, figsize=(10, 5), sharex=True, sharey=True)\n",
    "axs[0].imshow(img_syn, vmax=perc, vmin=0)\n",
    "axs[0].set_title(\"Synthetic Ground Thruth\")\n",
    "axs[1].imshow(distorted_img_syn, vmax=perc, vmin=0)\n",
    "axs[1].set_title(\"Synthetic Data\")\n",
    "axs[2].imshow(recovered_img_syn, vmax=perc, vmin=0)\n",
    "axs[2].set_title(\"Recovered Synthetic Data\")\n",
    "\n",
    "fig, axs = plt.subplots(2, 2, figsize=(10, 10), sharex=True, sharey=True)\n",
    "axs[0, 0].imshow(distorted_img_0, vmax=perc, vmin=0)\n",
    "axs[0, 0].set_title(\"Blurred Captures\")\n",
    "axs[0, 1].imshow(recovered_img_0, vmax=perc, vmin=0)\n",
    "axs[0, 1].set_title(\"Recovered DeepGyro Images\")\n",
    "axs[1, 0].imshow(distorted_img_9, vmax=perc, vmin=0)\n",
    "axs[1, 1].imshow(recovered_img_9, vmax=perc, vmin=0)\n",
    "\n",
    "plt.show()\n",
    "\n",
    "G = xtrace.depth_spill_psf(datagen.global_config, *utils.ray_grid(datagen.global_config[\"dimensions\"]))\n",
    "recovered_img_conv_0 = deconvolution.richard_lucy(distorted_img_0, G, 6)\n",
    "\n",
    "fig, axs = plt.subplots(1, 3, figsize=(10, 5), sharex=True, sharey=True)\n",
    "axs[0].imshow(distorted_img_0, vmax=perc, vmin=0)\n",
    "axs[0].set_title(\"Detector Image\")\n",
    "axs[1].imshow(recovered_img_conv_0, vmax=perc, vmin=0)\n",
    "axs[1].set_title(\"Richard Lucy Deconvolution\")\n",
    "axs[2].imshow(recovered_img_0, vmax=perc, vmin=0)\n",
    "axs[2].set_title(\"ML deconvolution\")\n",
    "plt.show()\n",
    "# Add local energy loss constraint? (ex: 10x10 area should contain about the same ammount of energy)\n",
    "# Add positivity loss constraint?\n",
    "# Try the Pecent contraint with lower randomness value -> trains on more realistic schenarios"
   ]
  },
  {
   "cell_type": "code",
   "execution_count": null,
   "id": "7b8f4806-2215-4bd0-9911-8dc6a18294f5",
   "metadata": {},
   "outputs": [],
   "source": []
  },
  {
   "cell_type": "code",
   "execution_count": null,
   "id": "77f7dad8-6abe-4db7-9598-a2f0f22894fc",
   "metadata": {},
   "outputs": [],
   "source": []
  }
 ],
 "metadata": {
  "kernelspec": {
   "display_name": "HDF5 / Simple Analysis / GPU",
   "language": "python",
   "name": "maxiv-jhub-docker-kernel-hdf5"
  },
  "language_info": {
   "codemirror_mode": {
    "name": "ipython",
    "version": 3
   },
   "file_extension": ".py",
   "mimetype": "text/x-python",
   "name": "python",
   "nbconvert_exporter": "python",
   "pygments_lexer": "ipython3",
   "version": "3.9.7"
  }
 },
 "nbformat": 4,
 "nbformat_minor": 5
}
