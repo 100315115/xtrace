{
 "cells": [
  {
   "cell_type": "code",
   "execution_count": 1,
   "id": "efd98a4e-2836-4029-a4cc-e36004a9ed7e",
   "metadata": {},
   "outputs": [
    {
     "name": "stdout",
     "output_type": "stream",
     "text": [
      "Requirement already satisfied: opencv-python in /opt/conda/envs/hdf5-kernel-environment/lib/python3.9/site-packages (4.5.5.64)\n",
      "Requirement already satisfied: numpy>=1.17.3 in /opt/conda/envs/hdf5-kernel-environment/lib/python3.9/site-packages (from opencv-python) (1.20.3)\n"
     ]
    }
   ],
   "source": [
    "import sys\n",
    "!{sys.executable} -m pip install opencv-python"
   ]
  },
  {
   "cell_type": "code",
   "execution_count": null,
   "id": "ab7a3817-bd1d-4854-bd06-570191ebd9d1",
   "metadata": {},
   "outputs": [
    {
     "name": "stdout",
     "output_type": "stream",
     "text": [
      "Epoch 1/100\n",
      "100/100 [==============================] - 169s 2s/step - loss: 8.7323e-07\n",
      "Epoch 2/100\n",
      "100/100 [==============================] - 170s 2s/step - loss: 8.2469e-07\n",
      "Epoch 3/100\n",
      "100/100 [==============================] - 171s 2s/step - loss: 8.0959e-07\n",
      "Epoch 4/100\n",
      "100/100 [==============================] - 171s 2s/step - loss: 7.7519e-07\n",
      "Epoch 5/100\n",
      "100/100 [==============================] - 169s 2s/step - loss: 7.6562e-07\n",
      "Epoch 6/100\n",
      "100/100 [==============================] - 161s 2s/step - loss: 7.1249e-07\n",
      "Epoch 7/100\n",
      "100/100 [==============================] - 168s 2s/step - loss: 6.6877e-07\n",
      "Epoch 8/100\n",
      " 30/100 [========>.....................] - ETA: 1:51 - loss: 6.3551e-07"
     ]
    }
   ],
   "source": [
    "%reload_ext autoreload\n",
    "%autoreload 2\n",
    "%matplotlib inline\n",
    "if 'NOTEBOOK_INITIATED_FLAG' not in globals():\n",
    "    NOTEBOOK_INITIATED_FLAG = True\n",
    "    %cd ..\n",
    "import os \n",
    "import numpy as np\n",
    "import matplotlib.pyplot as plt\n",
    "from matplotlib import image\n",
    "\n",
    "import examplesetup\n",
    "import lib.deconvolution as deconvolution\n",
    "import lib.utils as utils\n",
    "import lib.xtrace as xtrace\n",
    "import lib.datagen as datagen\n",
    "import lib.mlmodels as mlmodels\n",
    "import cv2\n",
    "\n",
    "from numpy.random import default_rng\n",
    "rng = default_rng()\n",
    "\n",
    "import tensorflow as tf\n",
    "from tensorflow import keras\n",
    "import numpy as np\n",
    "\n",
    "# Free up RAM in case the model definition cells were run multiple times\n",
    "keras.backend.clear_session()\n",
    "\n",
    "img_shape = (400, 400)\n",
    "batch_size = 32\n",
    "batches = 100\n",
    "\n",
    "# Build model\n",
    "\n",
    "model = mlmodels.get_supres_model(upscale_factor=4, channels=1)\n",
    "model_name = \"superres_nodeconv_logcosh\"\n",
    "model = keras.models.load_model(f'trained_networks/{model_name}.h5')\n",
    "\n",
    "train_gen = datagen.SuperRes(batch_size, batches, img_shape)\n",
    "\n",
    "# test = train_gen[0]\n",
    "# plt.imshow(test[0][0,:,:,0])\n",
    "# plt.figure()\n",
    "# plt.imshow(test[1][0,:,:,0])\n",
    "# plt.show()\n",
    "model.compile(optimizer=tf.keras.optimizers.Adam(learning_rate=0.001)\n",
    "              ,loss=tf.keras.losses.LogCosh())\n",
    "\n",
    "callbacks = [\n",
    "    keras.callbacks.ModelCheckpoint(\"trained_networks/superres_nodeconv_logcosh.h5\", monitor=\"loss\", save_best_only=True)\n",
    "]\n",
    "\n",
    "epochs = 100\n",
    "model.fit(train_gen, epochs=epochs, callbacks=callbacks)\n"
   ]
  },
  {
   "cell_type": "code",
   "execution_count": null,
   "id": "be1f2755-5761-47fa-8af3-7b877a74fc99",
   "metadata": {},
   "outputs": [],
   "source": []
  }
 ],
 "metadata": {
  "kernelspec": {
   "display_name": "HDF5 / Simple Analysis / GPU",
   "language": "python",
   "name": "maxiv-jhub-docker-kernel-hdf5"
  },
  "language_info": {
   "codemirror_mode": {
    "name": "ipython",
    "version": 3
   },
   "file_extension": ".py",
   "mimetype": "text/x-python",
   "name": "python",
   "nbconvert_exporter": "python",
   "pygments_lexer": "ipython3",
   "version": "3.9.7"
  }
 },
 "nbformat": 4,
 "nbformat_minor": 5
}
