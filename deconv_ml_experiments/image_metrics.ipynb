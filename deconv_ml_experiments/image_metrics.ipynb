{
 "cells": [
  {
   "cell_type": "code",
   "execution_count": 2,
   "id": "64c711ad-dc24-452b-80ec-69ac51e5a5a1",
   "metadata": {},
   "outputs": [
    {
     "name": "stdout",
     "output_type": "stream",
     "text": [
      "syn-max: 1.3528580753343624 real-max 3.244859\n"
     ]
    },
    {
     "data": {
      "application/vnd.jupyter.widget-view+json": {
       "model_id": "7bf13325f36248cea651ad3cdcc94886",
       "version_major": 2,
       "version_minor": 0
      },
      "text/plain": [
       "Canvas(toolbar=Toolbar(toolitems=[('Home', 'Reset original view', 'home', 'home'), ('Back', 'Back to previous …"
      ]
     },
     "metadata": {},
     "output_type": "display_data"
    },
    {
     "name": "stdout",
     "output_type": "stream",
     "text": [
      "0.000865 0.0017165516805080331\n"
     ]
    },
    {
     "data": {
      "application/vnd.jupyter.widget-view+json": {
       "model_id": "6f4c4c4b2d5a4dfdba6aed7819d177d4",
       "version_major": 2,
       "version_minor": 0
      },
      "text/plain": [
       "Canvas(toolbar=Toolbar(toolitems=[('Home', 'Reset original view', 'home', 'home'), ('Back', 'Back to previous …"
      ]
     },
     "metadata": {},
     "output_type": "display_data"
    },
    {
     "data": {
      "application/vnd.jupyter.widget-view+json": {
       "model_id": "37e9fb5dffe443d9b6fd81c689e5f646",
       "version_major": 2,
       "version_minor": 0
      },
      "text/plain": [
       "Canvas(toolbar=Toolbar(toolitems=[('Home', 'Reset original view', 'home', 'home'), ('Back', 'Back to previous …"
      ]
     },
     "metadata": {},
     "output_type": "display_data"
    },
    {
     "data": {
      "text/plain": [
       "<matplotlib.image.AxesImage at 0x7fdf905d0f70>"
      ]
     },
     "execution_count": 2,
     "metadata": {},
     "output_type": "execute_result"
    }
   ],
   "source": [
    "%reload_ext autoreload\n",
    "%autoreload 2\n",
    "%matplotlib widget\n",
    "if 'NOTEBOOK_INITIATED_FLAG' not in globals():\n",
    "    NOTEBOOK_INITIATED_FLAG = True\n",
    "    %cd ..\n",
    "import os \n",
    "import numpy as np\n",
    "import matplotlib.pyplot as plt\n",
    "\n",
    "import examplesetup\n",
    "import lib.deconvolution as deconvolution\n",
    "import lib.utils as utils\n",
    "import lib.xtrace as xtrace\n",
    "import lib.datagen as datagen\n",
    "\n",
    "project_dir = '/data/visitors/balder/20220115/2022022408'\n",
    "experiment_dir = os.path.join(project_dir, 'raw/XRD Eiger Test')\n",
    "poni_dir = os.path.join(project_dir, 'process')\n",
    "data_layer = 0\n",
    "\n",
    "config, data = utils.load_stack(\n",
    "    os.path.join(experiment_dir, 'LaB6_9_data_000001.h5'),\n",
    "    os.path.join(poni_dir, 'samuel_9_0.poni'),\n",
    ")\n",
    "\n",
    "img, mask = utils.mask(data[data_layer], False)\n",
    "img = img.astype(float)/1e6\n",
    "ray_grid = utils.ray_grid(config[\"dimensions\"])\n",
    "G = xtrace.depth_spill_psf(config, *ray_grid)\n",
    "\n",
    "img_syn = datagen.apply_noise(datagen.apply_blur(datagen.random_image(config[\"dimensions\"]), G, True))\n",
    "from scipy import special\n",
    "print(\"syn-max:\", img_syn.max(), \"real-max\", img.max())\n",
    "bins = 100\n",
    "range=(0, 4)\n",
    "plt.figure(figsize=(10, 10))\n",
    "plt.hist(img.flatten(), bins=bins, log=True, fc=(0, 0, 1, 0.5), density=True, range=range)\n",
    "plt.hist(img_syn.flatten(), bins=bins, fc=(1, 0, 1, 0.5), density=True, range=range)\n",
    "\n",
    "percent = 99\n",
    "perc = np.percentile(img, percent)\n",
    "perc_2 = np.percentile(img_syn, percent)\n",
    "print(perc, perc_2)\n",
    "plt.figure(figsize=(10, 10))\n",
    "plt.imshow(img, vmax=perc, vmin=0)\n",
    "plt.figure(figsize=(10, 10))\n",
    "plt.imshow(img_syn, vmax=perc, vmin=0)"
   ]
  },
  {
   "cell_type": "code",
   "execution_count": null,
   "id": "4cb3facd-60d8-401a-b5a3-b02b03ca17bb",
   "metadata": {},
   "outputs": [],
   "source": []
  }
 ],
 "metadata": {
  "kernelspec": {
   "display_name": "HDF5 / Simple Analysis / GPU",
   "language": "python",
   "name": "maxiv-jhub-docker-kernel-hdf5"
  },
  "language_info": {
   "codemirror_mode": {
    "name": "ipython",
    "version": 3
   },
   "file_extension": ".py",
   "mimetype": "text/x-python",
   "name": "python",
   "nbconvert_exporter": "python",
   "pygments_lexer": "ipython3",
   "version": "3.9.7"
  }
 },
 "nbformat": 4,
 "nbformat_minor": 5
}
