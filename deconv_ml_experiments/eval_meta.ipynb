{
 "cells": [
  {
   "cell_type": "code",
   "execution_count": 17,
   "id": "30030e69-ec0d-44d7-9574-f8ecdb3d7d2b",
   "metadata": {},
   "outputs": [
    {
     "data": {
      "application/vnd.jupyter.widget-view+json": {
       "model_id": "3bf24769679a4d9196ae618fb1b0f03a",
       "version_major": 2,
       "version_minor": 0
      },
      "text/plain": [
       "Canvas(toolbar=Toolbar(toolitems=[('Home', 'Reset original view', 'home', 'home'), ('Back', 'Back to previous …"
      ]
     },
     "metadata": {},
     "output_type": "display_data"
    }
   ],
   "source": [
    "%reload_ext autoreload\n",
    "%autoreload 2\n",
    "%matplotlib widget\n",
    "if 'NOTEBOOK_INITIATED_FLAG' not in globals():\n",
    "    NOTEBOOK_INITIATED_FLAG = True\n",
    "    %cd ..\n",
    "import os \n",
    "import numpy as np\n",
    "import matplotlib.pyplot as plt\n",
    "from matplotlib import image\n",
    "\n",
    "import examplesetup\n",
    "import lib.deconvolution as deconvolution\n",
    "import lib.utils as utils\n",
    "import lib.xtrace as xtrace\n",
    "import lib.datagen as datagen\n",
    "\n",
    "from numpy.random import default_rng\n",
    "rng = default_rng()\n",
    "\n",
    "import tensorflow as tf\n",
    "from tensorflow import keras\n",
    "import numpy as np\n",
    "import itertools\n",
    "\n",
    "model_paths = {\n",
    "    #\"Noise\": 'deconvolve_smallnoise_randgrid_oneloc.h5',\n",
    "    \"Hits - UNIF grid\": 'deconvolve_hits_grid_oneloc.h5',\n",
    "    \"Hits - RAND grid\": 'deconvolve_hits_randomgrid_oneloc.h5',\n",
    "    \"Hits - RAND grid 2\": 'deconvolve_hits_randomgrid_oneloc_2.h5',\n",
    "}\n",
    "test_image_paths = {\n",
    "    \"Image 1\": 'test_data_9.npy',\n",
    "    \"Image 2\": 'test_data_0.npy',\n",
    "}\n",
    "\n",
    "\n",
    "models = {k:keras.models.load_model(f'trained_networks/{v}') for k,v in model_paths.items()}\n",
    "test_images = {k:np.load(f'example_files/{v}')/1e6 for k,v in test_image_paths.items()}\n",
    "\n",
    "#distorted_img_syn, img_syn = datagen.get_synthetic_data_pair()\n",
    "\n",
    "percent = 99.5\n",
    "perc = np.percentile(np.maximum(*test_images.values()), percent)\n",
    "\n",
    "n, m = len(models) + 1, len(test_images)\n",
    "fig, axs = plt.subplots(m, n, figsize=(2.2*n, 2.2*m), sharex=True, sharey=True)\n",
    "for i, (m_name, model) in enumerate(models.items()):\n",
    "    for j, (i_name, image) in enumerate(test_images.items()):\n",
    "        recovered_img = model(image[np.newaxis,:,:], training=False).numpy()[0,:,:,0]\n",
    "        axs[j, i + 1].imshow(recovered_img, vmax=perc, vmin=0)\n",
    "        axs[j, i + 1].set_title(f'{m_name}')\n",
    "for j, (i_name, image) in enumerate(test_images.items()):\n",
    "    axs[j, 0].imshow(image, vmax=perc, vmin=0)\n",
    "    axs[j, 0].set_title(f'{i_name}')\n",
    "\n",
    "plt.tight_layout()\n",
    "plt.show()\n",
    "#Add local energy loss constraint? (ex: 10x10 area should contain about the same ammount of energy)\n",
    "#Add positivity loss constraint?\n",
    "#Try the Pecent contraint with lower randomness value -> trains on more realistic schenarios"
   ]
  },
  {
   "cell_type": "code",
   "execution_count": null,
   "id": "7b8f4806-2215-4bd0-9911-8dc6a18294f5",
   "metadata": {},
   "outputs": [],
   "source": []
  },
  {
   "cell_type": "code",
   "execution_count": null,
   "id": "77f7dad8-6abe-4db7-9598-a2f0f22894fc",
   "metadata": {},
   "outputs": [],
   "source": []
  }
 ],
 "metadata": {
  "kernelspec": {
   "display_name": "HDF5 / Simple Analysis / GPU",
   "language": "python",
   "name": "maxiv-jhub-docker-kernel-hdf5"
  },
  "language_info": {
   "codemirror_mode": {
    "name": "ipython",
    "version": 3
   },
   "file_extension": ".py",
   "mimetype": "text/x-python",
   "name": "python",
   "nbconvert_exporter": "python",
   "pygments_lexer": "ipython3",
   "version": "3.9.7"
  }
 },
 "nbformat": 4,
 "nbformat_minor": 5
}
