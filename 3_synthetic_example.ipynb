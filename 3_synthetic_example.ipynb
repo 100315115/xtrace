{
 "cells": [
  {
   "cell_type": "code",
   "execution_count": 20,
   "id": "4f9bc6fe-780f-4921-aa24-0def7c34cedb",
   "metadata": {},
   "outputs": [
    {
     "data": {
      "application/vnd.jupyter.widget-view+json": {
       "model_id": "1e3b6bfccb3e4749a9717a4942f6a25b",
       "version_major": 2,
       "version_minor": 0
      },
      "text/plain": [
       "Canvas(toolbar=Toolbar(toolitems=[('Home', 'Reset original view', 'home', 'home'), ('Back', 'Back to previous …"
      ]
     },
     "metadata": {},
     "output_type": "display_data"
    }
   ],
   "source": [
    "%reload_ext autoreload\n",
    "%autoreload 2\n",
    "%matplotlib widget\n",
    "\n",
    "import os \n",
    "import numpy as np\n",
    "import matplotlib.pyplot as plt\n",
    "from matplotlib import image\n",
    "\n",
    "import examplesetup\n",
    "import lib.deconvolution as deconvolution\n",
    "import lib.utils as utils\n",
    "import lib.xtrace as xtrace\n",
    "\n",
    "img = image.imread(\"example_image.png\").sum(axis=2)\n",
    "img = img - img.min()\n",
    "\n",
    "#img = np.zeros(img.shape)\n",
    "#img[::10,::10] = 1\n",
    "\n",
    "config = {\n",
    "    \"detector\": {\n",
    "        \"pixel_dims\": np.array([1.0, 1.0, 3.0]),\n",
    "        \"mu\":  0.3\n",
    "    },\n",
    "    \"dimensions\": np.array(img.shape),\n",
    "    \"ray_origin\": np.array([img.shape[0]/3, img.shape[1]/3, img.shape[1]/3]),\n",
    "}\n",
    "\n",
    "ray_grid = utils.ray_grid(config[\"dimensions\"])\n",
    "G = xtrace.depth_spill_psf(config, *ray_grid)\n",
    "\n",
    "#Create synthetic image\n",
    "distorted_img = (G.get()@img.flatten()).reshape(img.shape)\n",
    "perc, lam = (0.7, 10)\n",
    "distorted_img = distorted_img * (perc + np.random.poisson(lam, distorted_img.shape)/lam*(1 - perc))\n",
    "\n",
    "recovered_img = deconvolution.richard_lucy(distorted_img, G, 100)\n",
    "recovered_img_tv = deconvolution.regularized_richard_lucy(distorted_img, G, 0.002, 100)\n",
    "fig, axs = plt.subplots(2, 2, figsize=(10,10))\n",
    "axs[0, 0].imshow(img)\n",
    "axs[0, 0].set_title(\"Undistorted (Target)\")\n",
    "axs[0, 1].imshow(distorted_img)\n",
    "axs[0, 1].set_title(\"Simulated Sensor Output (To Reconstruct From)\")\n",
    "axs[1, 0].imshow(recovered_img)\n",
    "axs[1, 0].set_title(\"LC deconvolution (no regularization)\")\n",
    "axs[1, 1].imshow(recovered_img_tv)\n",
    "axs[1, 1].set_title(f'LC-TV deconvolution (regularized)')\n",
    "plt.tight_layout()\n",
    "plt.show()\n"
   ]
  },
  {
   "cell_type": "code",
   "execution_count": null,
   "id": "94a34633-d2d7-4807-9017-6c7548dc0670",
   "metadata": {},
   "outputs": [],
   "source": []
  },
  {
   "cell_type": "code",
   "execution_count": null,
   "id": "d14562a0-1e96-4ee2-a1f8-2447aeecad05",
   "metadata": {},
   "outputs": [],
   "source": []
  },
  {
   "cell_type": "code",
   "execution_count": null,
   "id": "bb97df01-70e3-4ea7-ad1e-260edda3ece1",
   "metadata": {},
   "outputs": [],
   "source": []
  },
  {
   "cell_type": "code",
   "execution_count": null,
   "id": "9ebd51ff-1f2c-48a8-a1a7-00cb2be4d6cf",
   "metadata": {},
   "outputs": [],
   "source": []
  }
 ],
 "metadata": {
  "kernelspec": {
   "display_name": "HDF5 / Simple Analysis / GPU",
   "language": "python",
   "name": "maxiv-jhub-docker-kernel-hdf5"
  },
  "language_info": {
   "codemirror_mode": {
    "name": "ipython",
    "version": 3
   },
   "file_extension": ".py",
   "mimetype": "text/x-python",
   "name": "python",
   "nbconvert_exporter": "python",
   "pygments_lexer": "ipython3",
   "version": "3.9.7"
  }
 },
 "nbformat": 4,
 "nbformat_minor": 5
}
