{
 "cells": [
  {
   "cell_type": "code",
   "execution_count": 1,
   "metadata": {},
   "outputs": [],
   "source": [
    "import numpy as np\n",
    "import matplotlib.pyplot as plt\n",
    "\n",
    "from scipy.sparse import csc_matrix\n",
    "\n",
    "from pixelcorr2D import get_distances, get_intensities\n",
    "\n",
    "import h5py\n",
    "from time import time"
   ]
  },
  {
   "cell_type": "code",
   "execution_count": 4,
   "metadata": {},
   "outputs": [],
   "source": [
    "# detector parameters\n",
    "det_params = {}\n",
    "det_params['mu'] = 3.445930 * 10**-3 #in 1/micron\n",
    "det_params['I0'] = 1 \n",
    "    \n",
    "#pixel dimentions\n",
    "det_params['pl'] = 75 #pixel length, in micrometers \n",
    "det_params['pw'] =  450 #pixel width, in micrometers\n",
    "det_params['ph'] = 75 #pixel height, in micrometers\n",
    "    \n",
    "#detector dimentions\n",
    "det_params['det_numpixels'] = (100, 100) #number of rows in pixels, number of columns in pixels\n",
    "#detector limits in Cartesian coordinates\n",
    "det_params['det_xlim'] = (0.0, det_params['pw'])\n",
    "det_params['det_ylim'] = (0.0, det_params['det_numpixels'][1] * det_params['pl'])\n",
    "det_params['det_zlim'] = (0.0, det_params['det_numpixels'][0] * det_params['ph'])\n",
    "    \n",
    "#Cartesian coordinates of the sample, given by the poni file \n",
    "det_params['sx'] = -0.4051247560395305 * 10 **4 # -dist in poni file, in micrometers\n",
    "det_params['sy'] = 0.17601077769492505 * 10 **4 # P2 in poni file, in micrometers\n",
    "det_params['sz'] = 0.02184240399163788 * 10 **4 # P1 in poni file, in micrometers\n",
    "\n",
    "det_params['j'] = 10 #planes"
   ]
  },
  {
   "cell_type": "code",
   "execution_count": 5,
   "metadata": {},
   "outputs": [
    {
     "name": "stdout",
     "output_type": "stream",
     "text": [
      "forward propagation matrix (recalc=1)\n",
      "shape:  (1000000, 1000000)\n",
      "nnz: 3153420, nnz/pixel: 3.2\n",
      "total absorption: 801804.4, absorption/pixel: 0.80\n",
      "geom calculation took: 417.709 sec\n",
      "matrix creation took: 0.104 sec\n"
     ]
    }
   ],
   "source": [
    "# preallocate linear storage\n",
    "'''\n",
    "nsz = np.prod(det_params['det_dims']) * 5 #number of pixels times intersections per pixel, although then he truncates buffer...\n",
    "data = np.zeros((nsz,), dtype=np.float64) #vertical vector \n",
    "row_ind = np.zeros((nsz,), dtype=np.int32)\n",
    "col_ind = np.zeros((nsz,), dtype=np.int32)\n",
    "iend = 0\n",
    "'''\n",
    "#all rays\n",
    "hit_col, hit_row = meshgrid(linspace(0, 100, 10), linspace(0, 100, 10)) \n",
    "hit_row = hit_row.flatten()\n",
    "hit_col = hit_col.flatten()\n",
    "\n",
    "recalc_geometry = True\n",
    "\n",
    "t_start_geom_calc = time()\n",
    "\n",
    "#_det_row, _det_col are LISTS OF INTEGERS!! and they are columns!!!\n",
    "#they contain the pixels for all rays, which means that most probably they will have repeated values!!\n",
    "#data is the absorbed intensity per each pixel pear each ray\n",
    "\n",
    "'''\n",
    "if recalc_geometry:\n",
    "    # pass over each pixel and calculate the absorption coefficients\n",
    "    for irow in range(det_params['det_dims'][0]):\n",
    "        for icol in range(det_params['det_dims'][1]):\n",
    "            # get distancies and intensities\n",
    "            _dist, _det_row, _det_col = get_distances(irow, icol, det_params)\n",
    "            _ti, _ai = get_intensities(_dist, det_params)\n",
    "            nlen = len(_dist)\n",
    "            row_ind[iend:(iend+nlen)] = np.array(_det_row) * det_params['det_dims'][1] + np.array(_det_col)\n",
    "            col_ind[iend:(iend+nlen)] = irow * det_params['det_dims'][1] + icol\n",
    "            data[iend:(iend+nlen)] = _ai\n",
    "            iend = iend + nlen\n",
    "    # truncate buffers\n",
    "    row_ind = row_ind[:iend]\n",
    "    col_ind = col_ind[:iend]\n",
    "    data = data[:iend]\n",
    "else:\n",
    "    # load data from file\n",
    "    with h5py.File('G_matrix.h5','r') as h5f:\n",
    "        row_ind = h5f['/G/row_ind'][()]\n",
    "        col_ind = h5f['/G/col_ind'][()]\n",
    "        data = h5f['/G/data'][()]\n",
    "'''\n",
    "\n",
    "if recalc_geometry:\n",
    "    _dist, row_ind, col_ind = get_distances(hit_row, hit_col, det_params)\n",
    "    _ti, data = get_intensities(_dist, det_params)\n",
    "else:\n",
    "    # load data from file\n",
    "    with h5py.File('G_matrix.h5','r') as h5f:\n",
    "        row_ind = h5f['/G/row_ind'][()]\n",
    "        col_ind = h5f['/G/col_ind'][()]\n",
    "        data = h5f['/G/data'][()]\n",
    "\n",
    "t_finished_geom_calc = time()\n",
    "        \n",
    "# forward propagation matrix\n",
    "t_start_matrix_create = time()\n",
    "nsz = np.prod(det_params['det_dims']) #number of pixels\n",
    "G = csc_matrix((data,(row_ind, col_ind)),shape=(nsz,nsz))\n",
    "t_finished_matrix_create = time()\n",
    "\n",
    "# print statistics\n",
    "print('forward propagation matrix (recalc=%d)' % (recalc_geometry,))\n",
    "print('shape: ', G.shape)\n",
    "print('nnz: %d, nnz/pixel: %.1f' % (G.nnz, G.nnz/G.shape[0],))\n",
    "print('total absorption: %.1f, absorption/pixel: %.2f' % (G.sum(), G.sum()/G.shape[0],))\n",
    "print('geom calculation took: %.3f sec' % (t_finished_geom_calc-t_start_geom_calc,))\n",
    "print('matrix creation took: %.3f sec' % (t_finished_matrix_create-t_start_matrix_create,))\n",
    "\n",
    "# save matrix\n",
    "with h5py.File('G_matrix.h5','w') as h5f:\n",
    "    # create dataset\n",
    "    h5f.create_dataset('/G/shape', data=np.array(G.shape))\n",
    "    h5f.create_dataset('/G/row_ind', data=row_ind)\n",
    "    h5f.create_dataset('/G/col_ind', data=col_ind)\n",
    "    h5f.create_dataset('/G/data', data=data)\n",
    "\n",
    "#print(G)"
   ]
  },
  {
   "cell_type": "code",
   "execution_count": 6,
   "metadata": {},
   "outputs": [
    {
     "name": "stdout",
     "output_type": "stream",
     "text": [
      "  (901, 0)\t0.05729021713675053\n",
      "  (1901, 0)\t0.1839896474925652\n",
      "  (2900, 0)\t0.2637072672745873\n",
      "  (2901, 0)\t0.06786446255809092\n",
      "  (3900, 0)\t0.25510208462952955\n",
      "\n",
      "\n",
      "  (999099, 0)\t0.31087318270018144\n",
      "  (999100, 0)\t0.48340476591392456\n"
     ]
    }
   ],
   "source": [
    "# small matrix printout\n",
    "row = 3; col = 900;\n",
    "print(G[:,row*det_params['det_dims'][1]+col])\n",
    "print('\\n')\n",
    "row = 999; col = 100;\n",
    "print(G[:,row*det_params['det_dims'][1]+col])"
   ]
  },
  {
   "cell_type": "code",
   "execution_count": null,
   "metadata": {},
   "outputs": [],
   "source": []
  }
 ],
 "metadata": {
  "kernelspec": {
   "display_name": "Python 3",
   "language": "python",
   "name": "python3"
  },
  "language_info": {
   "codemirror_mode": {
    "name": "ipython",
    "version": 3
   },
   "file_extension": ".py",
   "mimetype": "text/x-python",
   "name": "python",
   "nbconvert_exporter": "python",
   "pygments_lexer": "ipython3",
   "version": "3.8.5"
  }
 },
 "nbformat": 4,
 "nbformat_minor": 5
}
